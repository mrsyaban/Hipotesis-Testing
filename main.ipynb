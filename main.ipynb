{
 "cells": [
  {
   "attachments": {},
   "cell_type": "markdown",
   "metadata": {},
   "source": [
    "# Tugas Besar IF2220 Probabilitas dan Statistika\n",
    "\n",
    "### Penarikan Kesimpulan dan Pengujian Hipotesis\n",
    "\n",
    "> 13521109 Rizky Abdillah Rasyid\n",
    "\n",
    "> 13521119 Muhammad Rizky Sya'ban"
   ]
  },
  {
   "attachments": {},
   "cell_type": "markdown",
   "metadata": {},
   "source": [
    "### Inisialisasi *library* yang akan digunakan."
   ]
  },
  {
   "cell_type": "code",
   "execution_count": 2,
   "metadata": {},
   "outputs": [],
   "source": [
    "import pandas as pd\n",
    "import numpy as np\n",
    "import matplotlib.pyplot as plt\n",
    "from IPython.display import Markdown, display"
   ]
  },
  {
   "attachments": {},
   "cell_type": "markdown",
   "metadata": {},
   "source": [
    "### 1.  Menulis deskripsi statistika (Descriptive Statistics) dari semua kolom pada data yang bersifat numerik, terdiri dari mean, median, modus, standar deviasi, variansi, range, nilai minimum, maksimum, kuartil, IQR, skewness dan kurtosis."
   ]
  },
  {
   "cell_type": "code",
   "execution_count": 3,
   "metadata": {},
   "outputs": [
    {
     "name": "stdout",
     "output_type": "stream",
     "text": [
      "<class 'pandas.core.frame.DataFrame'>\n",
      "Index: 1001 entries, fixed acidity to 5.87\n",
      "Data columns (total 11 columns):\n",
      " #   Column           Non-Null Count  Dtype \n",
      "---  ------           --------------  ----- \n",
      " 0   id               1001 non-null   object\n",
      " 1   pH               1001 non-null   object\n",
      " 2   Hardness         1001 non-null   object\n",
      " 3   Solids           1001 non-null   object\n",
      " 4   Chloramines      1001 non-null   object\n",
      " 5   Sulfate          1001 non-null   object\n",
      " 6   Conductivity     1001 non-null   object\n",
      " 7   OrganicCarbon    1001 non-null   object\n",
      " 8   Trihalomethanes  1001 non-null   object\n",
      " 9   Turbidity        1001 non-null   object\n",
      " 10  Potability       1001 non-null   object\n",
      "dtypes: object(11)\n",
      "memory usage: 93.8+ KB\n"
     ]
    }
   ],
   "source": [
    "column = [\"id\", \"pH\", \"Hardness\", \"Solids\", \"Chloramines\", \"Sulfate\", \"Conductivity\", \"OrganicCarbon\", \"Trihalomethanes\", \"Turbidity\", \"Potability\"]\n",
    "df = pd.read_csv(\"dataset/anggur.csv\", header = None, names = column)\n",
    "df.info()"
   ]
  }
 ],
 "metadata": {
  "kernelspec": {
   "display_name": "Python 3",
   "language": "python",
   "name": "python3"
  },
  "language_info": {
   "codemirror_mode": {
    "name": "ipython",
    "version": 3
   },
   "file_extension": ".py",
   "mimetype": "text/x-python",
   "name": "python",
   "nbconvert_exporter": "python",
   "pygments_lexer": "ipython3",
   "version": "3.9.7"
  },
  "orig_nbformat": 4
 },
 "nbformat": 4,
 "nbformat_minor": 2
}
