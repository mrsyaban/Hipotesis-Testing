{
 "cells": [
  {
   "attachments": {},
   "cell_type": "markdown",
   "metadata": {},
   "source": [
    "# Tugas Besar IF2220 Probabilitas dan Statistika\n",
    "\n",
    "### Penarikan Kesimpulan dan Pengujian Hipotesis\n",
    "\n",
    "> 13521109 Rizky Abdillah Rasyid\n",
    "\n",
    "> 13521119 Muhammad Rizky Sya'ban"
   ]
  },
  {
   "attachments": {},
   "cell_type": "markdown",
   "metadata": {},
   "source": [
    "### Inisialisasi *library* yang akan digunakan."
   ]
  },
  {
   "cell_type": "code",
   "execution_count": 855,
   "metadata": {},
   "outputs": [
    {
     "name": "stdout",
     "output_type": "stream",
     "text": [
      "<class 'pandas.core.frame.DataFrame'>\n",
      "RangeIndex: 1000 entries, 0 to 999\n",
      "Data columns (total 12 columns):\n",
      " #   Column                Non-Null Count  Dtype  \n",
      "---  ------                --------------  -----  \n",
      " 0   fixed acidity         1000 non-null   float64\n",
      " 1   volatile acidity      1000 non-null   float64\n",
      " 2   citric acid           1000 non-null   float64\n",
      " 3   residual sugar        1000 non-null   float64\n",
      " 4   chlorides             1000 non-null   float64\n",
      " 5   free sulfur dioxide   1000 non-null   float64\n",
      " 6   total sulfur dioxide  1000 non-null   float64\n",
      " 7   density               1000 non-null   float64\n",
      " 8   pH                    1000 non-null   float64\n",
      " 9   sulphates             1000 non-null   float64\n",
      " 10  alcohol               1000 non-null   float64\n",
      " 11  quality               1000 non-null   int64  \n",
      "dtypes: float64(11), int64(1)\n",
      "memory usage: 93.9 KB\n"
     ]
    }
   ],
   "source": [
    "import pandas as pd\n",
    "import numpy as np\n",
    "import matplotlib.pyplot as plt\n",
    "from IPython.display import Markdown, display\n",
    "df = pd.read_csv(\"dataset/anggur.csv\")\n",
    "df.info()"
   ]
  },
  {
   "attachments": {},
   "cell_type": "markdown",
   "metadata": {},
   "source": [
    "## PROBLEM 1\n",
    "### Menulis deskripsi statistika (Descriptive Statistics) dari semua kolom pada data yang bersifat numerik, terdiri dari mean, median, modus, standar deviasi, variansi, range, nilai minimum, maksimum, kuartil, IQR, skewness dan kurtosis."
   ]
  },
  {
   "cell_type": "code",
   "execution_count": 856,
   "metadata": {},
   "outputs": [
    {
     "data": {
      "text/markdown": [
       "#### Mean, Median, Standar Deviasi, Variansi, Range, Minimum, Maximum, Kuartil, IQR, Skewness, dan Kurtosis"
      ],
      "text/plain": [
       "<IPython.core.display.Markdown object>"
      ]
     },
     "metadata": {},
     "output_type": "display_data"
    },
    {
     "data": {
      "text/html": [
       "<div>\n",
       "<style scoped>\n",
       "    .dataframe tbody tr th:only-of-type {\n",
       "        vertical-align: middle;\n",
       "    }\n",
       "\n",
       "    .dataframe tbody tr th {\n",
       "        vertical-align: top;\n",
       "    }\n",
       "\n",
       "    .dataframe thead th {\n",
       "        text-align: right;\n",
       "    }\n",
       "</style>\n",
       "<table border=\"1\" class=\"dataframe\">\n",
       "  <thead>\n",
       "    <tr style=\"text-align: right;\">\n",
       "      <th></th>\n",
       "      <th>Mean</th>\n",
       "      <th>Median</th>\n",
       "      <th>Deviasi</th>\n",
       "      <th>Var</th>\n",
       "      <th>Min</th>\n",
       "      <th>Max</th>\n",
       "      <th>Range</th>\n",
       "      <th>Q1</th>\n",
       "      <th>Q2</th>\n",
       "      <th>Q3</th>\n",
       "      <th>IQR</th>\n",
       "      <th>Skewness</th>\n",
       "      <th>Kurtosis</th>\n",
       "    </tr>\n",
       "  </thead>\n",
       "  <tbody>\n",
       "    <tr>\n",
       "      <th>fixed acidity</th>\n",
       "      <td>7.152530</td>\n",
       "      <td>7.150000</td>\n",
       "      <td>1.201598</td>\n",
       "      <td>1.443837</td>\n",
       "      <td>3.320000</td>\n",
       "      <td>11.490000</td>\n",
       "      <td>8.170000</td>\n",
       "      <td>6.377500</td>\n",
       "      <td>7.150000</td>\n",
       "      <td>8.000000</td>\n",
       "      <td>1.622500</td>\n",
       "      <td>-0.028879</td>\n",
       "      <td>-0.019292</td>\n",
       "    </tr>\n",
       "    <tr>\n",
       "      <th>volatile acidity</th>\n",
       "      <td>0.520839</td>\n",
       "      <td>0.524850</td>\n",
       "      <td>0.095848</td>\n",
       "      <td>0.009187</td>\n",
       "      <td>0.139900</td>\n",
       "      <td>0.805100</td>\n",
       "      <td>0.665200</td>\n",
       "      <td>0.456100</td>\n",
       "      <td>0.524850</td>\n",
       "      <td>0.585375</td>\n",
       "      <td>0.129275</td>\n",
       "      <td>-0.197699</td>\n",
       "      <td>0.161853</td>\n",
       "    </tr>\n",
       "    <tr>\n",
       "      <th>citric acid</th>\n",
       "      <td>0.270517</td>\n",
       "      <td>0.272200</td>\n",
       "      <td>0.049098</td>\n",
       "      <td>0.002411</td>\n",
       "      <td>0.116700</td>\n",
       "      <td>0.409600</td>\n",
       "      <td>0.292900</td>\n",
       "      <td>0.237800</td>\n",
       "      <td>0.272200</td>\n",
       "      <td>0.302325</td>\n",
       "      <td>0.064525</td>\n",
       "      <td>-0.045576</td>\n",
       "      <td>-0.104679</td>\n",
       "    </tr>\n",
       "    <tr>\n",
       "      <th>residual sugar</th>\n",
       "      <td>2.567104</td>\n",
       "      <td>2.519430</td>\n",
       "      <td>0.987915</td>\n",
       "      <td>0.975977</td>\n",
       "      <td>0.032555</td>\n",
       "      <td>5.550755</td>\n",
       "      <td>5.518200</td>\n",
       "      <td>1.896330</td>\n",
       "      <td>2.519430</td>\n",
       "      <td>3.220873</td>\n",
       "      <td>1.324544</td>\n",
       "      <td>0.132638</td>\n",
       "      <td>-0.042980</td>\n",
       "    </tr>\n",
       "    <tr>\n",
       "      <th>chlorides</th>\n",
       "      <td>0.081195</td>\n",
       "      <td>0.082167</td>\n",
       "      <td>0.020111</td>\n",
       "      <td>0.000404</td>\n",
       "      <td>0.015122</td>\n",
       "      <td>0.140758</td>\n",
       "      <td>0.125635</td>\n",
       "      <td>0.066574</td>\n",
       "      <td>0.082167</td>\n",
       "      <td>0.095312</td>\n",
       "      <td>0.028738</td>\n",
       "      <td>-0.051319</td>\n",
       "      <td>-0.246508</td>\n",
       "    </tr>\n",
       "    <tr>\n",
       "      <th>free sulfur dioxide</th>\n",
       "      <td>14.907679</td>\n",
       "      <td>14.860346</td>\n",
       "      <td>4.888100</td>\n",
       "      <td>23.893519</td>\n",
       "      <td>0.194679</td>\n",
       "      <td>27.462525</td>\n",
       "      <td>27.267847</td>\n",
       "      <td>11.426717</td>\n",
       "      <td>14.860346</td>\n",
       "      <td>18.313098</td>\n",
       "      <td>6.886381</td>\n",
       "      <td>0.007130</td>\n",
       "      <td>-0.364964</td>\n",
       "    </tr>\n",
       "    <tr>\n",
       "      <th>total sulfur dioxide</th>\n",
       "      <td>40.290150</td>\n",
       "      <td>40.190000</td>\n",
       "      <td>9.965767</td>\n",
       "      <td>99.316519</td>\n",
       "      <td>3.150000</td>\n",
       "      <td>69.960000</td>\n",
       "      <td>66.810000</td>\n",
       "      <td>33.785000</td>\n",
       "      <td>40.190000</td>\n",
       "      <td>47.022500</td>\n",
       "      <td>13.237500</td>\n",
       "      <td>-0.024060</td>\n",
       "      <td>0.063950</td>\n",
       "    </tr>\n",
       "    <tr>\n",
       "      <th>density</th>\n",
       "      <td>0.995925</td>\n",
       "      <td>0.996000</td>\n",
       "      <td>0.002020</td>\n",
       "      <td>0.000004</td>\n",
       "      <td>0.988800</td>\n",
       "      <td>1.002600</td>\n",
       "      <td>0.013800</td>\n",
       "      <td>0.994600</td>\n",
       "      <td>0.996000</td>\n",
       "      <td>0.997200</td>\n",
       "      <td>0.002600</td>\n",
       "      <td>-0.076883</td>\n",
       "      <td>0.016366</td>\n",
       "    </tr>\n",
       "    <tr>\n",
       "      <th>pH</th>\n",
       "      <td>3.303610</td>\n",
       "      <td>3.300000</td>\n",
       "      <td>0.104875</td>\n",
       "      <td>0.010999</td>\n",
       "      <td>2.970000</td>\n",
       "      <td>3.710000</td>\n",
       "      <td>0.740000</td>\n",
       "      <td>3.230000</td>\n",
       "      <td>3.300000</td>\n",
       "      <td>3.370000</td>\n",
       "      <td>0.140000</td>\n",
       "      <td>0.147673</td>\n",
       "      <td>0.080910</td>\n",
       "    </tr>\n",
       "    <tr>\n",
       "      <th>sulphates</th>\n",
       "      <td>0.598390</td>\n",
       "      <td>0.595000</td>\n",
       "      <td>0.100819</td>\n",
       "      <td>0.010164</td>\n",
       "      <td>0.290000</td>\n",
       "      <td>0.960000</td>\n",
       "      <td>0.670000</td>\n",
       "      <td>0.530000</td>\n",
       "      <td>0.595000</td>\n",
       "      <td>0.670000</td>\n",
       "      <td>0.140000</td>\n",
       "      <td>0.149199</td>\n",
       "      <td>0.064819</td>\n",
       "    </tr>\n",
       "    <tr>\n",
       "      <th>alcohol</th>\n",
       "      <td>10.592280</td>\n",
       "      <td>10.610000</td>\n",
       "      <td>1.510706</td>\n",
       "      <td>2.282233</td>\n",
       "      <td>6.030000</td>\n",
       "      <td>15.020000</td>\n",
       "      <td>8.990000</td>\n",
       "      <td>9.560000</td>\n",
       "      <td>10.610000</td>\n",
       "      <td>11.622500</td>\n",
       "      <td>2.062500</td>\n",
       "      <td>-0.018991</td>\n",
       "      <td>-0.131732</td>\n",
       "    </tr>\n",
       "    <tr>\n",
       "      <th>quality</th>\n",
       "      <td>7.958000</td>\n",
       "      <td>8.000000</td>\n",
       "      <td>0.902802</td>\n",
       "      <td>0.815051</td>\n",
       "      <td>5.000000</td>\n",
       "      <td>10.000000</td>\n",
       "      <td>5.000000</td>\n",
       "      <td>7.000000</td>\n",
       "      <td>8.000000</td>\n",
       "      <td>9.000000</td>\n",
       "      <td>2.000000</td>\n",
       "      <td>-0.089054</td>\n",
       "      <td>0.108291</td>\n",
       "    </tr>\n",
       "  </tbody>\n",
       "</table>\n",
       "</div>"
      ],
      "text/plain": [
       "                           Mean     Median   Deviasi        Var       Min  \\\n",
       "fixed acidity          7.152530   7.150000  1.201598   1.443837  3.320000   \n",
       "volatile acidity       0.520839   0.524850  0.095848   0.009187  0.139900   \n",
       "citric acid            0.270517   0.272200  0.049098   0.002411  0.116700   \n",
       "residual sugar         2.567104   2.519430  0.987915   0.975977  0.032555   \n",
       "chlorides              0.081195   0.082167  0.020111   0.000404  0.015122   \n",
       "free sulfur dioxide   14.907679  14.860346  4.888100  23.893519  0.194679   \n",
       "total sulfur dioxide  40.290150  40.190000  9.965767  99.316519  3.150000   \n",
       "density                0.995925   0.996000  0.002020   0.000004  0.988800   \n",
       "pH                     3.303610   3.300000  0.104875   0.010999  2.970000   \n",
       "sulphates              0.598390   0.595000  0.100819   0.010164  0.290000   \n",
       "alcohol               10.592280  10.610000  1.510706   2.282233  6.030000   \n",
       "quality                7.958000   8.000000  0.902802   0.815051  5.000000   \n",
       "\n",
       "                            Max      Range         Q1         Q2         Q3  \\\n",
       "fixed acidity         11.490000   8.170000   6.377500   7.150000   8.000000   \n",
       "volatile acidity       0.805100   0.665200   0.456100   0.524850   0.585375   \n",
       "citric acid            0.409600   0.292900   0.237800   0.272200   0.302325   \n",
       "residual sugar         5.550755   5.518200   1.896330   2.519430   3.220873   \n",
       "chlorides              0.140758   0.125635   0.066574   0.082167   0.095312   \n",
       "free sulfur dioxide   27.462525  27.267847  11.426717  14.860346  18.313098   \n",
       "total sulfur dioxide  69.960000  66.810000  33.785000  40.190000  47.022500   \n",
       "density                1.002600   0.013800   0.994600   0.996000   0.997200   \n",
       "pH                     3.710000   0.740000   3.230000   3.300000   3.370000   \n",
       "sulphates              0.960000   0.670000   0.530000   0.595000   0.670000   \n",
       "alcohol               15.020000   8.990000   9.560000  10.610000  11.622500   \n",
       "quality               10.000000   5.000000   7.000000   8.000000   9.000000   \n",
       "\n",
       "                            IQR  Skewness  Kurtosis  \n",
       "fixed acidity          1.622500 -0.028879 -0.019292  \n",
       "volatile acidity       0.129275 -0.197699  0.161853  \n",
       "citric acid            0.064525 -0.045576 -0.104679  \n",
       "residual sugar         1.324544  0.132638 -0.042980  \n",
       "chlorides              0.028738 -0.051319 -0.246508  \n",
       "free sulfur dioxide    6.886381  0.007130 -0.364964  \n",
       "total sulfur dioxide  13.237500 -0.024060  0.063950  \n",
       "density                0.002600 -0.076883  0.016366  \n",
       "pH                     0.140000  0.147673  0.080910  \n",
       "sulphates              0.140000  0.149199  0.064819  \n",
       "alcohol                2.062500 -0.018991 -0.131732  \n",
       "quality                2.000000 -0.089054  0.108291  "
      ]
     },
     "execution_count": 856,
     "metadata": {},
     "output_type": "execute_result"
    }
   ],
   "source": [
    "display(Markdown((\"#### Mean, Median, Standar Deviasi, Variansi, Range, Minimum, Maximum, Kuartil, IQR, Skewness, dan Kurtosis\")))\n",
    "\n",
    "stat = pd.DataFrame()\n",
    "stat[\"Mean\"] = df.mean()\n",
    "stat[\"Median\"] = df.median()\n",
    "stat[\"Deviasi\"] = df.std()\n",
    "stat[\"Var\"] = df.var()\n",
    "stat[\"Min\"] = df.min()\n",
    "stat[\"Max\"] = df.max()\n",
    "stat[\"Range\"] = stat[\"Max\"] - stat[\"Min\"]\n",
    "stat[\"Q1\"] = df.quantile(0.25)\n",
    "stat[\"Q2\"] = df.quantile(0.5)\n",
    "stat[\"Q3\"] = df.quantile(0.75)\n",
    "stat[\"IQR\"] = stat[\"Q3\"] - stat[\"Q1\"]\n",
    "stat[\"Skewness\"] = df.skew()\n",
    "stat[\"Kurtosis\"] = df.kurtosis()\n",
    "stat\n"
   ]
  },
  {
   "cell_type": "code",
   "execution_count": 857,
   "metadata": {},
   "outputs": [
    {
     "data": {
      "text/markdown": [
       "#### Modus [*multivalued*]"
      ],
      "text/plain": [
       "<IPython.core.display.Markdown object>"
      ]
     },
     "metadata": {},
     "output_type": "display_data"
    },
    {
     "data": {
      "text/html": [
       "<div>\n",
       "<style scoped>\n",
       "    .dataframe tbody tr th:only-of-type {\n",
       "        vertical-align: middle;\n",
       "    }\n",
       "\n",
       "    .dataframe tbody tr th {\n",
       "        vertical-align: top;\n",
       "    }\n",
       "\n",
       "    .dataframe thead th {\n",
       "        text-align: right;\n",
       "    }\n",
       "</style>\n",
       "<table border=\"1\" class=\"dataframe\">\n",
       "  <thead>\n",
       "    <tr style=\"text-align: right;\">\n",
       "      <th></th>\n",
       "      <th>fixed acidity</th>\n",
       "      <th>volatile acidity</th>\n",
       "      <th>citric acid</th>\n",
       "      <th>residual sugar</th>\n",
       "      <th>chlorides</th>\n",
       "      <th>free sulfur dioxide</th>\n",
       "      <th>total sulfur dioxide</th>\n",
       "      <th>density</th>\n",
       "      <th>pH</th>\n",
       "      <th>sulphates</th>\n",
       "      <th>alcohol</th>\n",
       "      <th>quality</th>\n",
       "    </tr>\n",
       "  </thead>\n",
       "  <tbody>\n",
       "    <tr>\n",
       "      <th>0</th>\n",
       "      <td>6.54</td>\n",
       "      <td>0.5546</td>\n",
       "      <td>0.3019</td>\n",
       "      <td>0.032555</td>\n",
       "      <td>0.015122</td>\n",
       "      <td>0.194679</td>\n",
       "      <td>35.20</td>\n",
       "      <td>0.9959</td>\n",
       "      <td>3.34</td>\n",
       "      <td>0.59</td>\n",
       "      <td>9.86</td>\n",
       "      <td>8.0</td>\n",
       "    </tr>\n",
       "    <tr>\n",
       "      <th>1</th>\n",
       "      <td>NaN</td>\n",
       "      <td>NaN</td>\n",
       "      <td>NaN</td>\n",
       "      <td>0.033333</td>\n",
       "      <td>0.020794</td>\n",
       "      <td>0.621628</td>\n",
       "      <td>37.25</td>\n",
       "      <td>0.9961</td>\n",
       "      <td>NaN</td>\n",
       "      <td>NaN</td>\n",
       "      <td>10.31</td>\n",
       "      <td>NaN</td>\n",
       "    </tr>\n",
       "    <tr>\n",
       "      <th>2</th>\n",
       "      <td>NaN</td>\n",
       "      <td>NaN</td>\n",
       "      <td>NaN</td>\n",
       "      <td>0.051774</td>\n",
       "      <td>0.024259</td>\n",
       "      <td>0.860177</td>\n",
       "      <td>39.64</td>\n",
       "      <td>0.9965</td>\n",
       "      <td>NaN</td>\n",
       "      <td>NaN</td>\n",
       "      <td>NaN</td>\n",
       "      <td>NaN</td>\n",
       "    </tr>\n",
       "    <tr>\n",
       "      <th>3</th>\n",
       "      <td>NaN</td>\n",
       "      <td>NaN</td>\n",
       "      <td>NaN</td>\n",
       "      <td>0.077156</td>\n",
       "      <td>0.027209</td>\n",
       "      <td>3.032139</td>\n",
       "      <td>40.61</td>\n",
       "      <td>0.9970</td>\n",
       "      <td>NaN</td>\n",
       "      <td>NaN</td>\n",
       "      <td>NaN</td>\n",
       "      <td>NaN</td>\n",
       "    </tr>\n",
       "    <tr>\n",
       "      <th>4</th>\n",
       "      <td>NaN</td>\n",
       "      <td>NaN</td>\n",
       "      <td>NaN</td>\n",
       "      <td>0.084744</td>\n",
       "      <td>0.032111</td>\n",
       "      <td>3.129885</td>\n",
       "      <td>41.05</td>\n",
       "      <td>NaN</td>\n",
       "      <td>NaN</td>\n",
       "      <td>NaN</td>\n",
       "      <td>NaN</td>\n",
       "      <td>NaN</td>\n",
       "    </tr>\n",
       "    <tr>\n",
       "      <th>...</th>\n",
       "      <td>...</td>\n",
       "      <td>...</td>\n",
       "      <td>...</td>\n",
       "      <td>...</td>\n",
       "      <td>...</td>\n",
       "      <td>...</td>\n",
       "      <td>...</td>\n",
       "      <td>...</td>\n",
       "      <td>...</td>\n",
       "      <td>...</td>\n",
       "      <td>...</td>\n",
       "      <td>...</td>\n",
       "    </tr>\n",
       "    <tr>\n",
       "      <th>995</th>\n",
       "      <td>NaN</td>\n",
       "      <td>NaN</td>\n",
       "      <td>NaN</td>\n",
       "      <td>5.210260</td>\n",
       "      <td>0.131425</td>\n",
       "      <td>26.630490</td>\n",
       "      <td>NaN</td>\n",
       "      <td>NaN</td>\n",
       "      <td>NaN</td>\n",
       "      <td>NaN</td>\n",
       "      <td>NaN</td>\n",
       "      <td>NaN</td>\n",
       "    </tr>\n",
       "    <tr>\n",
       "      <th>996</th>\n",
       "      <td>NaN</td>\n",
       "      <td>NaN</td>\n",
       "      <td>NaN</td>\n",
       "      <td>5.217429</td>\n",
       "      <td>0.133656</td>\n",
       "      <td>26.665773</td>\n",
       "      <td>NaN</td>\n",
       "      <td>NaN</td>\n",
       "      <td>NaN</td>\n",
       "      <td>NaN</td>\n",
       "      <td>NaN</td>\n",
       "      <td>NaN</td>\n",
       "    </tr>\n",
       "    <tr>\n",
       "      <th>997</th>\n",
       "      <td>NaN</td>\n",
       "      <td>NaN</td>\n",
       "      <td>NaN</td>\n",
       "      <td>5.252864</td>\n",
       "      <td>0.135368</td>\n",
       "      <td>26.822626</td>\n",
       "      <td>NaN</td>\n",
       "      <td>NaN</td>\n",
       "      <td>NaN</td>\n",
       "      <td>NaN</td>\n",
       "      <td>NaN</td>\n",
       "      <td>NaN</td>\n",
       "    </tr>\n",
       "    <tr>\n",
       "      <th>998</th>\n",
       "      <td>NaN</td>\n",
       "      <td>NaN</td>\n",
       "      <td>NaN</td>\n",
       "      <td>5.299524</td>\n",
       "      <td>0.135790</td>\n",
       "      <td>27.006307</td>\n",
       "      <td>NaN</td>\n",
       "      <td>NaN</td>\n",
       "      <td>NaN</td>\n",
       "      <td>NaN</td>\n",
       "      <td>NaN</td>\n",
       "      <td>NaN</td>\n",
       "    </tr>\n",
       "    <tr>\n",
       "      <th>999</th>\n",
       "      <td>NaN</td>\n",
       "      <td>NaN</td>\n",
       "      <td>NaN</td>\n",
       "      <td>5.550755</td>\n",
       "      <td>0.140758</td>\n",
       "      <td>27.462525</td>\n",
       "      <td>NaN</td>\n",
       "      <td>NaN</td>\n",
       "      <td>NaN</td>\n",
       "      <td>NaN</td>\n",
       "      <td>NaN</td>\n",
       "      <td>NaN</td>\n",
       "    </tr>\n",
       "  </tbody>\n",
       "</table>\n",
       "<p>1000 rows × 12 columns</p>\n",
       "</div>"
      ],
      "text/plain": [
       "     fixed acidity  volatile acidity  citric acid  residual sugar  chlorides  \\\n",
       "0             6.54            0.5546       0.3019        0.032555   0.015122   \n",
       "1              NaN               NaN          NaN        0.033333   0.020794   \n",
       "2              NaN               NaN          NaN        0.051774   0.024259   \n",
       "3              NaN               NaN          NaN        0.077156   0.027209   \n",
       "4              NaN               NaN          NaN        0.084744   0.032111   \n",
       "..             ...               ...          ...             ...        ...   \n",
       "995            NaN               NaN          NaN        5.210260   0.131425   \n",
       "996            NaN               NaN          NaN        5.217429   0.133656   \n",
       "997            NaN               NaN          NaN        5.252864   0.135368   \n",
       "998            NaN               NaN          NaN        5.299524   0.135790   \n",
       "999            NaN               NaN          NaN        5.550755   0.140758   \n",
       "\n",
       "     free sulfur dioxide  total sulfur dioxide  density    pH  sulphates  \\\n",
       "0               0.194679                 35.20   0.9959  3.34       0.59   \n",
       "1               0.621628                 37.25   0.9961   NaN        NaN   \n",
       "2               0.860177                 39.64   0.9965   NaN        NaN   \n",
       "3               3.032139                 40.61   0.9970   NaN        NaN   \n",
       "4               3.129885                 41.05      NaN   NaN        NaN   \n",
       "..                   ...                   ...      ...   ...        ...   \n",
       "995            26.630490                   NaN      NaN   NaN        NaN   \n",
       "996            26.665773                   NaN      NaN   NaN        NaN   \n",
       "997            26.822626                   NaN      NaN   NaN        NaN   \n",
       "998            27.006307                   NaN      NaN   NaN        NaN   \n",
       "999            27.462525                   NaN      NaN   NaN        NaN   \n",
       "\n",
       "     alcohol  quality  \n",
       "0       9.86      8.0  \n",
       "1      10.31      NaN  \n",
       "2        NaN      NaN  \n",
       "3        NaN      NaN  \n",
       "4        NaN      NaN  \n",
       "..       ...      ...  \n",
       "995      NaN      NaN  \n",
       "996      NaN      NaN  \n",
       "997      NaN      NaN  \n",
       "998      NaN      NaN  \n",
       "999      NaN      NaN  \n",
       "\n",
       "[1000 rows x 12 columns]"
      ]
     },
     "execution_count": 857,
     "metadata": {},
     "output_type": "execute_result"
    }
   ],
   "source": [
    "display(Markdown(\"#### Modus [*multivalued*]\"))\n",
    "df.mode()"
   ]
  },
  {
   "attachments": {},
   "cell_type": "markdown",
   "metadata": {},
   "source": [
    "## PROBLEM 2\n",
    "### Membuat Visualisasi plot distribusi, dalam bentuk histogram dan boxplot untuk setiap kolom numerik. Berikan uraian penjelasan kondisi setiap kolom berdasarkan kedua plot tersebut."
   ]
  },
  {
   "cell_type": "code",
   "execution_count": 858,
   "metadata": {},
   "outputs": [],
   "source": [
    "dataHeader = df.columns\n",
    "\n",
    "plt.rcParams['boxplot.boxprops.linewidth'] = 2\n",
    "plt.rcParams['boxplot.whiskerprops.linewidth'] = 2\n",
    "plt.rcParams['boxplot.capprops.linewidth'] = 2\n",
    "plt.rcParams['boxplot.medianprops.linewidth'] = 2\n",
    "plt.rcParams['boxplot.flierprops.marker'] = 'o'\n",
    "plt.rcParams['boxplot.flierprops.markersize'] = 8\n",
    "plt.rcParams['boxplot.flierprops.linewidth'] = 2\n",
    "plt.rcParams['boxplot.flierprops.markeredgecolor'] = '#81171B'\n",
    "plt.rcParams['figure.facecolor'] = '#e5e5e5'\n",
    "plt.rcParams['figure.edgecolor'] = '#e5e5e5'\n"
   ]
  },
  {
   "cell_type": "code",
   "execution_count": 859,
   "metadata": {},
   "outputs": [],
   "source": [
    "def problem2(attribute) : \n",
    "    display(Markdown(f\"<h3 style='text-align:center; text-transform: uppercase'> {attribute} </h3>\"))\n",
    "    plt.subplot(1, 2, 1)\n",
    "    df[attribute].plot(kind=\"hist\", rwidth = 0.85, figsize=(12, 6), color=\"#81171B\", bins=10).set_facecolor('#8d99ae')\n",
    "    plt.subplot(1, 2, 2)\n",
    "    df[attribute].plot(kind=\"box\", figsize=(12, 6), color=\"#81171B\").set_facecolor('#8d99ae')\n",
    "    plt.show()"
   ]
  },
  {
   "cell_type": "code",
   "execution_count": 860,
   "metadata": {},
   "outputs": [
    {
     "data": {
      "text/markdown": [
       "<h3 style='text-align:center; text-transform: uppercase'> fixed acidity </h3>"
      ],
      "text/plain": [
       "<IPython.core.display.Markdown object>"
      ]
     },
     "metadata": {},
     "output_type": "display_data"
    },
    {
     "data": {
      "image/png": "[encoded data removed]",
      "text/plain": [
       "<Figure size 864x432 with 2 Axes>"
      ]
     },
     "metadata": {},
     "output_type": "display_data"
    }
   ],
   "source": [
    "problem2(dataHeader[0])"
   ]
  },
  {
   "attachments": {},
   "cell_type": "markdown",
   "metadata": {},
   "source": [
    "Berdasarkan histogram dan box plot yang terbentuk, terlihat bahwa data *Fixed Acidity* terdistribusi normal yang cenderung miring ke kiri (*negatively skewed*) dan dari jumlah *outliers*"
   ]
  },
  {
   "cell_type": "code",
   "execution_count": 861,
   "metadata": {},
   "outputs": [
    {
     "data": {
      "text/markdown": [
       "<h3 style='text-align:center; text-transform: uppercase'> volatile acidity </h3>"
      ],
      "text/plain": [
       "<IPython.core.display.Markdown object>"
      ]
     },
     "metadata": {},
     "output_type": "display_data"
    },
    {
     "data": {
      "image/png": "[encoded data removed]",
      "text/plain": [
       "<Figure size 864x432 with 2 Axes>"
      ]
     },
     "metadata": {},
     "output_type": "display_data"
    }
   ],
   "source": [
    "problem2(dataHeader[1])"
   ]
  },
  {
   "cell_type": "code",
   "execution_count": 862,
   "metadata": {},
   "outputs": [
    {
     "data": {
      "text/markdown": [
       "<h3 style='text-align:center; text-transform: uppercase'> citric acid </h3>"
      ],
      "text/plain": [
       "<IPython.core.display.Markdown object>"
      ]
     },
     "metadata": {},
     "output_type": "display_data"
    },
    {
     "data": {
      "image/png": "[encoded data removed]",
      "text/plain": [
       "<Figure size 864x432 with 2 Axes>"
      ]
     },
     "metadata": {},
     "output_type": "display_data"
    }
   ],
   "source": [
    "problem2(dataHeader[2])"
   ]
  },
  {
   "cell_type": "code",
   "execution_count": 863,
   "metadata": {},
   "outputs": [
    {
     "data": {
      "text/markdown": [
       "<h3 style='text-align:center; text-transform: uppercase'> residual sugar </h3>"
      ],
      "text/plain": [
       "<IPython.core.display.Markdown object>"
      ]
     },
     "metadata": {},
     "output_type": "display_data"
    },
    {
     "data": {
      "image/png": "[encoded data removed]",
      "text/plain": [
       "<Figure size 864x432 with 2 Axes>"
      ]
     },
     "metadata": {},
     "output_type": "display_data"
    }
   ],
   "source": [
    "problem2(dataHeader[3])"
   ]
  },
  {
   "cell_type": "code",
   "execution_count": 864,
   "metadata": {},
   "outputs": [
    {
     "data": {
      "text/markdown": [
       "<h3 style='text-align:center; text-transform: uppercase'> chlorides </h3>"
      ],
      "text/plain": [
       "<IPython.core.display.Markdown object>"
      ]
     },
     "metadata": {},
     "output_type": "display_data"
    },
    {
     "data": {
      "image/png": "[encoded data removed]",
      "text/plain": [
       "<Figure size 864x432 with 2 Axes>"
      ]
     },
     "metadata": {},
     "output_type": "display_data"
    }
   ],
   "source": [
    "problem2(dataHeader[4])"
   ]
  },
  {
   "cell_type": "code",
   "execution_count": 865,
   "metadata": {},
   "outputs": [
    {
     "data": {
      "text/markdown": [
       "<h3 style='text-align:center; text-transform: uppercase'> free sulfur dioxide </h3>"
      ],
      "text/plain": [
       "<IPython.core.display.Markdown object>"
      ]
     },
     "metadata": {},
     "output_type": "display_data"
    },
    {
     "data": {
      "image/png": "[encoded data removed]",
      "text/plain": [
       "<Figure size 864x432 with 2 Axes>"
      ]
     },
     "metadata": {},
     "output_type": "display_data"
    }
   ],
   "source": [
    "problem2(dataHeader[5])"
   ]
  },
  {
   "cell_type": "code",
   "execution_count": 866,
   "metadata": {},
   "outputs": [
    {
     "data": {
      "text/markdown": [
       "<h3 style='text-align:center; text-transform: uppercase'> total sulfur dioxide </h3>"
      ],
      "text/plain": [
       "<IPython.core.display.Markdown object>"
      ]
     },
     "metadata": {},
     "output_type": "display_data"
    },
    {
     "data": {
      "image/png": "[encoded data removed]",
      "text/plain": [
       "<Figure size 864x432 with 2 Axes>"
      ]
     },
     "metadata": {},
     "output_type": "display_data"
    }
   ],
   "source": [
    "problem2(dataHeader[6])"
   ]
  },
  {
   "cell_type": "code",
   "execution_count": 867,
   "metadata": {},
   "outputs": [
    {
     "data": {
      "text/markdown": [
       "<h3 style='text-align:center; text-transform: uppercase'> density </h3>"
      ],
      "text/plain": [
       "<IPython.core.display.Markdown object>"
      ]
     },
     "metadata": {},
     "output_type": "display_data"
    },
    {
     "data": {
      "image/png": "[encoded data removed]",
      "text/plain": [
       "<Figure size 864x432 with 2 Axes>"
      ]
     },
     "metadata": {},
     "output_type": "display_data"
    }
   ],
   "source": [
    "problem2(dataHeader[7])"
   ]
  },
  {
   "cell_type": "code",
   "execution_count": 868,
   "metadata": {},
   "outputs": [
    {
     "data": {
      "text/markdown": [
       "<h3 style='text-align:center; text-transform: uppercase'> pH </h3>"
      ],
      "text/plain": [
       "<IPython.core.display.Markdown object>"
      ]
     },
     "metadata": {},
     "output_type": "display_data"
    },
    {
     "data": {
      "image/png": "[encoded data removed]",
      "text/plain": [
       "<Figure size 864x432 with 2 Axes>"
      ]
     },
     "metadata": {},
     "output_type": "display_data"
    }
   ],
   "source": [
    "problem2(dataHeader[8])"
   ]
  },
  {
   "cell_type": "code",
   "execution_count": 869,
   "metadata": {},
   "outputs": [
    {
     "data": {
      "text/markdown": [
       "<h3 style='text-align:center; text-transform: uppercase'> sulphates </h3>"
      ],
      "text/plain": [
       "<IPython.core.display.Markdown object>"
      ]
     },
     "metadata": {},
     "output_type": "display_data"
    },
    {
     "data": {
      "image/png": "[encoded data removed]",
      "text/plain": [
       "<Figure size 864x432 with 2 Axes>"
      ]
     },
     "metadata": {},
     "output_type": "display_data"
    }
   ],
   "source": [
    "problem2(dataHeader[9])"
   ]
  },
  {
   "cell_type": "code",
   "execution_count": 870,
   "metadata": {},
   "outputs": [
    {
     "data": {
      "text/markdown": [
       "<h3 style='text-align:center; text-transform: uppercase'> alcohol </h3>"
      ],
      "text/plain": [
       "<IPython.core.display.Markdown object>"
      ]
     },
     "metadata": {},
     "output_type": "display_data"
    },
    {
     "data": {
      "image/png": "[encoded data removed]",
      "text/plain": [
       "<Figure size 864x432 with 2 Axes>"
      ]
     },
     "metadata": {},
     "output_type": "display_data"
    }
   ],
   "source": [
    "problem2(dataHeader[10])"
   ]
  },
  {
   "cell_type": "code",
   "execution_count": 871,
   "metadata": {},
   "outputs": [
    {
     "data": {
      "text/markdown": [
       "<h3 style='text-align:center; text-transform: uppercase'> quality </h3>"
      ],
      "text/plain": [
       "<IPython.core.display.Markdown object>"
      ]
     },
     "metadata": {},
     "output_type": "display_data"
    },
    {
     "data": {
      "image/png": "[encoded data removed]",
      "text/plain": [
       "<Figure size 864x432 with 2 Axes>"
      ]
     },
     "metadata": {},
     "output_type": "display_data"
    }
   ],
   "source": [
    "problem2(dataHeader[11])"
   ]
  },
  {
   "attachments": {},
   "cell_type": "markdown",
   "metadata": {},
   "source": [
    "## PROBLEM 3\n",
    "### Menentukan setiap kolom numerik berdistribusi normal atau tidak. Gunakan normality test yang dikaitkan dengan histogram plot"
   ]
  }
 ],
 "metadata": {
  "kernelspec": {
   "display_name": "Python 3",
   "language": "python",
   "name": "python3"
  },
  "language_info": {
   "codemirror_mode": {
    "name": "ipython",
    "version": 3
   },
   "file_extension": ".py",
   "mimetype": "text/x-python",
   "name": "python",
   "nbconvert_exporter": "python",
   "pygments_lexer": "ipython3",
   "version": "3.9.7"
  },
  "orig_nbformat": 4
 },
 "nbformat": 4,
 "nbformat_minor": 2
}
