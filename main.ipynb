{
 "cells": [
  {
   "attachments": {},
   "cell_type": "markdown",
   "metadata": {},
   "source": [
    "# Tugas Besar IF2220 Probabilitas dan Statistika\n",
    "\n",
    "### Penarikan Kesimpulan dan Pengujian Hipotesis\n",
    "\n",
    "> 13521109 Rizky Abdillah Rasyid\n",
    "\n",
    "> 13521119 Muhammad Rizky Sya'ban"
   ]
  },
  {
   "attachments": {},
   "cell_type": "markdown",
   "metadata": {},
   "source": [
    "### Inisialisasi *library* yang akan digunakan."
   ]
  },
  {
   "cell_type": "code",
   "execution_count": 1,
   "metadata": {},
   "outputs": [],
   "source": [
    "import pandas as pd\n",
    "import numpy as np\n",
    "import matplotlib.pyplot as plt\n",
    "from IPython.display import Markdown, display"
   ]
  },
  {
   "attachments": {},
   "cell_type": "markdown",
   "metadata": {},
   "source": [
    "### 1.  Menulis deskripsi statistika (Descriptive Statistics) dari semua kolom pada data yang bersifat numerik, terdiri dari mean, median, modus, standar deviasi, variansi, range, nilai minimum, maksimum, kuartil, IQR, skewness dan kurtosis."
   ]
  },
  {
   "cell_type": "code",
   "execution_count": 2,
   "metadata": {},
   "outputs": [
    {
     "name": "stdout",
     "output_type": "stream",
     "text": [
      "<class 'pandas.core.frame.DataFrame'>\n",
      "Index: 1001 entries, fixed acidity to 5.87\n",
      "Data columns (total 11 columns):\n",
      " #   Column           Non-Null Count  Dtype \n",
      "---  ------           --------------  ----- \n",
      " 0   id               1001 non-null   object\n",
      " 1   pH               1001 non-null   object\n",
      " 2   Hardness         1001 non-null   object\n",
      " 3   Solids           1001 non-null   object\n",
      " 4   Chloramines      1001 non-null   object\n",
      " 5   Sulfate          1001 non-null   object\n",
      " 6   Conductivity     1001 non-null   object\n",
      " 7   OrganicCarbon    1001 non-null   object\n",
      " 8   Trihalomethanes  1001 non-null   object\n",
      " 9   Turbidity        1001 non-null   object\n",
      " 10  Potability       1001 non-null   object\n",
      "dtypes: object(11)\n",
      "memory usage: 93.8+ KB\n"
     ]
    }
   ],
   "source": [
    "column = [\"id\", \"pH\", \"Hardness\", \"Solids\", \"Chloramines\", \"Sulfate\", \"Conductivity\", \"OrganicCarbon\", \"Trihalomethanes\", \"Turbidity\", \"Potability\"]\n",
    "df = pd.read_csv(\"dataset/anggur.csv\", header = None, names = column)\n",
    "df.info()"
   ]
  },
  {
   "cell_type": "code",
   "execution_count": 3,
   "metadata": {},
   "outputs": [
    {
     "data": {
      "text/html": [
       "<div>\n",
       "<style scoped>\n",
       "    .dataframe tbody tr th:only-of-type {\n",
       "        vertical-align: middle;\n",
       "    }\n",
       "\n",
       "    .dataframe tbody tr th {\n",
       "        vertical-align: top;\n",
       "    }\n",
       "\n",
       "    .dataframe thead th {\n",
       "        text-align: right;\n",
       "    }\n",
       "</style>\n",
       "<table border=\"1\" class=\"dataframe\">\n",
       "  <thead>\n",
       "    <tr style=\"text-align: right;\">\n",
       "      <th></th>\n",
       "      <th>id</th>\n",
       "      <th>pH</th>\n",
       "      <th>Hardness</th>\n",
       "      <th>Solids</th>\n",
       "      <th>Chloramines</th>\n",
       "      <th>Sulfate</th>\n",
       "      <th>Conductivity</th>\n",
       "      <th>OrganicCarbon</th>\n",
       "      <th>Trihalomethanes</th>\n",
       "      <th>Turbidity</th>\n",
       "      <th>Potability</th>\n",
       "    </tr>\n",
       "  </thead>\n",
       "  <tbody>\n",
       "    <tr>\n",
       "      <th>fixed acidity</th>\n",
       "      <td>volatile acidity</td>\n",
       "      <td>citric acid</td>\n",
       "      <td>residual sugar</td>\n",
       "      <td>chlorides</td>\n",
       "      <td>free sulfur dioxide</td>\n",
       "      <td>total sulfur dioxide</td>\n",
       "      <td>density</td>\n",
       "      <td>pH</td>\n",
       "      <td>sulphates</td>\n",
       "      <td>alcohol</td>\n",
       "      <td>quality</td>\n",
       "    </tr>\n",
       "    <tr>\n",
       "      <th>5.9</th>\n",
       "      <td>0.4451</td>\n",
       "      <td>0.1813</td>\n",
       "      <td>2.049401312441085</td>\n",
       "      <td>0.070574489612481</td>\n",
       "      <td>16.59381751499067</td>\n",
       "      <td>42.27</td>\n",
       "      <td>0.9982</td>\n",
       "      <td>3.27</td>\n",
       "      <td>0.71</td>\n",
       "      <td>8.64</td>\n",
       "      <td>7</td>\n",
       "    </tr>\n",
       "    <tr>\n",
       "      <th>8.4</th>\n",
       "      <td>0.5768</td>\n",
       "      <td>0.2099</td>\n",
       "      <td>3.109590324079827</td>\n",
       "      <td>0.101681448549234</td>\n",
       "      <td>22.55551936905905</td>\n",
       "      <td>16.01</td>\n",
       "      <td>0.996</td>\n",
       "      <td>3.35</td>\n",
       "      <td>0.57</td>\n",
       "      <td>10.03</td>\n",
       "      <td>8</td>\n",
       "    </tr>\n",
       "    <tr>\n",
       "      <th>7.54</th>\n",
       "      <td>0.5918</td>\n",
       "      <td>0.3248</td>\n",
       "      <td>3.673744380694597</td>\n",
       "      <td>0.0724155344849959</td>\n",
       "      <td>9.316866115881428</td>\n",
       "      <td>35.52</td>\n",
       "      <td>0.999</td>\n",
       "      <td>3.31</td>\n",
       "      <td>0.64</td>\n",
       "      <td>9.23</td>\n",
       "      <td>8</td>\n",
       "    </tr>\n",
       "    <tr>\n",
       "      <th>5.39</th>\n",
       "      <td>0.4201</td>\n",
       "      <td>0.3131</td>\n",
       "      <td>3.371814589273552</td>\n",
       "      <td>0.0727545223136335</td>\n",
       "      <td>18.21229953192828</td>\n",
       "      <td>41.97</td>\n",
       "      <td>0.9945</td>\n",
       "      <td>3.34</td>\n",
       "      <td>0.55</td>\n",
       "      <td>14.07</td>\n",
       "      <td>9</td>\n",
       "    </tr>\n",
       "  </tbody>\n",
       "</table>\n",
       "</div>"
      ],
      "text/plain": [
       "                             id           pH           Hardness  \\\n",
       "fixed acidity  volatile acidity  citric acid     residual sugar   \n",
       "5.9                      0.4451       0.1813  2.049401312441085   \n",
       "8.4                      0.5768       0.2099  3.109590324079827   \n",
       "7.54                     0.5918       0.3248  3.673744380694597   \n",
       "5.39                     0.4201       0.3131  3.371814589273552   \n",
       "\n",
       "                           Solids          Chloramines               Sulfate  \\\n",
       "fixed acidity           chlorides  free sulfur dioxide  total sulfur dioxide   \n",
       "5.9             0.070574489612481    16.59381751499067                 42.27   \n",
       "8.4             0.101681448549234    22.55551936905905                 16.01   \n",
       "7.54           0.0724155344849959    9.316866115881428                 35.52   \n",
       "5.39           0.0727545223136335    18.21229953192828                 41.97   \n",
       "\n",
       "              Conductivity OrganicCarbon Trihalomethanes Turbidity Potability  \n",
       "fixed acidity      density            pH       sulphates   alcohol    quality  \n",
       "5.9                 0.9982          3.27            0.71      8.64          7  \n",
       "8.4                  0.996          3.35            0.57     10.03          8  \n",
       "7.54                 0.999          3.31            0.64      9.23          8  \n",
       "5.39                0.9945          3.34            0.55     14.07          9  "
      ]
     },
     "execution_count": 3,
     "metadata": {},
     "output_type": "execute_result"
    }
   ],
   "source": [
    "df.head()"
   ]
  }
 ],
 "metadata": {
  "kernelspec": {
   "display_name": "Python 3",
   "language": "python",
   "name": "python3"
  },
  "language_info": {
   "codemirror_mode": {
    "name": "ipython",
    "version": 3
   },
   "file_extension": ".py",
   "mimetype": "text/x-python",
   "name": "python",
   "nbconvert_exporter": "python",
   "pygments_lexer": "ipython3",
   "version": "3.9.7"
  },
  "orig_nbformat": 4
 },
 "nbformat": 4,
 "nbformat_minor": 2
}
