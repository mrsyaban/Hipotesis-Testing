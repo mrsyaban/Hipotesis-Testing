{
 "cells": [
  {
   "attachments": {},
   "cell_type": "markdown",
   "metadata": {},
   "source": [
    "# Tugas Besar IF2220 Probabilitas dan Statistika\n",
    "\n",
    "### Penarikan Kesimpulan dan Pengujian Hipotesis\n",
    "\n",
    "> 13521109 Rizky Abdillah Rasyid\n",
    "\n",
    "> 13521119 Muhammad Rizky Sya'ban"
   ]
  },
  {
   "attachments": {},
   "cell_type": "markdown",
   "metadata": {},
   "source": [
    "## Inisialisasi *library* yang akan digunakan."
   ]
  },
  {
   "cell_type": "code",
   "execution_count": 433,
   "metadata": {},
   "outputs": [],
   "source": [
    "import numpy as np\n",
    "import pandas as pd\n",
    "import matplotlib.pyplot as plt\n",
    "from IPython.display import Markdown, display\n",
    "\n",
    "df = pd.read_csv(\"dataset/anggur.csv\")\n",
    "\n"
   ]
  },
  {
   "attachments": {},
   "cell_type": "markdown",
   "metadata": {},
   "source": [
    "## PROBLEM 1\n",
    "### Menulis deskripsi statistika (Descriptive Statistics) dari semua kolom pada data yang bersifat numerik, terdiri dari mean, median, modus, standar deviasi, variansi, range, nilai minimum, maksimum, kuartil, IQR, skewness dan kurtosis."
   ]
  },
  {
   "cell_type": "code",
   "execution_count": 434,
   "metadata": {},
   "outputs": [
    {
     "data": {
      "text/markdown": [
       "#### Mean, Median, Standar Deviasi, Variansi, Range, Minimum, Maximum, Kuartil, IQR, Skewness, dan Kurtosis"
      ],
      "text/plain": [
       "<IPython.core.display.Markdown object>"
      ]
     },
     "metadata": {},
     "output_type": "display_data"
    },
    {
     "name": "stdout",
     "output_type": "stream",
     "text": [
      "Column 'col1' has a multi-valued mode of [1, 2, 3, 4, 5]\n",
      "Column 'col2' has a multi-valued mode of ['c']\n",
      "Column 'col3' has a multi-valued mode of ['y', 'z']\n",
      "Column 'col4' has a multi-valued mode of [10, 20, 30, 40, 50]\n",
      "Column 'col5' has a multi-valued mode of [100, 200, 300, 400, 500]\n"
     ]
    }
   ],
   "source": [
    "display(Markdown((\"#### Mean, Median, Standar Deviasi, Variansi, Range, Minimum, Maximum, Kuartil, IQR, Skewness, dan Kurtosis\")))\n",
    "\n",
    "stat = pd.DataFrame()\n",
    "\n",
    "# Calculate the mode for each column\n",
    "mode = df.mode()\n",
    "mode_string = mode.apply(lambda x: ', '.join(x.astype(str)), axis=0)\n",
    "mode_string = mode_string.replace('', 'multivalued', regex=False)\n",
    "\n",
    "\n",
    "stat[\"Mean\"] = df.mean()\n",
    "stat[\"Median\"] = df.median()\n",
    "stat[\"Mode\"] = mode_string\n",
    "stat[\"Deviasi\"] = df.std()\n",
    "stat[\"Var\"] = df.var()\n",
    "stat[\"Min\"] = df.min()\n",
    "stat[\"Max\"] = df.max()\n",
    "stat[\"Range\"] = stat[\"Max\"] - stat[\"Min\"]\n",
    "stat[\"Q1\"] = df.quantile(0.25)\n",
    "stat[\"Q2\"] = df.quantile(0.5)\n",
    "stat[\"Q3\"] = df.quantile(0.75)\n",
    "stat[\"IQR\"] = stat[\"Q3\"] - stat[\"Q1\"]\n",
    "stat[\"Skewness\"] = df.skew()\n",
    "stat[\"Kurtosis\"] = df.kurtosis()\n",
    "stat\n",
    "\n",
    "import pandas as pd\n",
    "\n",
    "# Create a sample dataframe\n",
    "data = {'col1': [1, 2, 3, 4, 5],\n",
    "        'col2': ['a', 'b', 'c', 'c', 'd'],\n",
    "        'col3': ['x', 'y', 'y', 'z', 'z'],\n",
    "        'col4': [10, 20, 30, 40, 50],\n",
    "        'col5': [100, 200, 300, 400, 500]}\n",
    "tempDf = pd.DataFrame(data)\n",
    "\n",
    "# Calculate the mode for all columns\n",
    "for column in tempDf.columns:\n",
    "    if len(tempDf[column].unique()) == 1:\n",
    "        # If the column has only one unique value, then it has a single-valued mode\n",
    "        mode_value = tempDf[column].unique()[0]\n",
    "        print(f\"Column '{column}' has a single-valued mode of {mode_value}\")\n",
    "    else:\n",
    "        # If the column has multiple unique values, then it has a multi-valued mode\n",
    "        value_counts = tempDf[column].value_counts()\n",
    "        max_count = value_counts.max()\n",
    "        mode_values = list(value_counts[value_counts == max_count].index)\n",
    "        print(f\"Column '{column}' has a multi-valued mode of {mode_values}\")\n"
   ]
  },
  {
   "cell_type": "code",
   "execution_count": 435,
   "metadata": {},
   "outputs": [
    {
     "data": {
      "text/markdown": [
       "#### Modus [*multivalued*]"
      ],
      "text/plain": [
       "<IPython.core.display.Markdown object>"
      ]
     },
     "metadata": {},
     "output_type": "display_data"
    },
    {
     "data": {
      "text/html": [
       "<div>\n",
       "<style scoped>\n",
       "    .dataframe tbody tr th:only-of-type {\n",
       "        vertical-align: middle;\n",
       "    }\n",
       "\n",
       "    .dataframe tbody tr th {\n",
       "        vertical-align: top;\n",
       "    }\n",
       "\n",
       "    .dataframe thead th {\n",
       "        text-align: right;\n",
       "    }\n",
       "</style>\n",
       "<table border=\"1\" class=\"dataframe\">\n",
       "  <thead>\n",
       "    <tr style=\"text-align: right;\">\n",
       "      <th></th>\n",
       "      <th>fixed acidity</th>\n",
       "      <th>volatile acidity</th>\n",
       "      <th>citric acid</th>\n",
       "      <th>residual sugar</th>\n",
       "      <th>chlorides</th>\n",
       "      <th>free sulfur dioxide</th>\n",
       "      <th>total sulfur dioxide</th>\n",
       "      <th>density</th>\n",
       "      <th>pH</th>\n",
       "      <th>sulphates</th>\n",
       "      <th>alcohol</th>\n",
       "      <th>quality</th>\n",
       "    </tr>\n",
       "  </thead>\n",
       "  <tbody>\n",
       "    <tr>\n",
       "      <th>0</th>\n",
       "      <td>6.54</td>\n",
       "      <td>0.5546</td>\n",
       "      <td>0.3019</td>\n",
       "      <td>0.032555</td>\n",
       "      <td>0.015122</td>\n",
       "      <td>0.194679</td>\n",
       "      <td>35.20</td>\n",
       "      <td>0.9959</td>\n",
       "      <td>3.34</td>\n",
       "      <td>0.59</td>\n",
       "      <td>9.86</td>\n",
       "      <td>8.0</td>\n",
       "    </tr>\n",
       "    <tr>\n",
       "      <th>1</th>\n",
       "      <td>NaN</td>\n",
       "      <td>NaN</td>\n",
       "      <td>NaN</td>\n",
       "      <td>0.033333</td>\n",
       "      <td>0.020794</td>\n",
       "      <td>0.621628</td>\n",
       "      <td>37.25</td>\n",
       "      <td>0.9961</td>\n",
       "      <td>NaN</td>\n",
       "      <td>NaN</td>\n",
       "      <td>10.31</td>\n",
       "      <td>NaN</td>\n",
       "    </tr>\n",
       "    <tr>\n",
       "      <th>2</th>\n",
       "      <td>NaN</td>\n",
       "      <td>NaN</td>\n",
       "      <td>NaN</td>\n",
       "      <td>0.051774</td>\n",
       "      <td>0.024259</td>\n",
       "      <td>0.860177</td>\n",
       "      <td>39.64</td>\n",
       "      <td>0.9965</td>\n",
       "      <td>NaN</td>\n",
       "      <td>NaN</td>\n",
       "      <td>NaN</td>\n",
       "      <td>NaN</td>\n",
       "    </tr>\n",
       "    <tr>\n",
       "      <th>3</th>\n",
       "      <td>NaN</td>\n",
       "      <td>NaN</td>\n",
       "      <td>NaN</td>\n",
       "      <td>0.077156</td>\n",
       "      <td>0.027209</td>\n",
       "      <td>3.032139</td>\n",
       "      <td>40.61</td>\n",
       "      <td>0.9970</td>\n",
       "      <td>NaN</td>\n",
       "      <td>NaN</td>\n",
       "      <td>NaN</td>\n",
       "      <td>NaN</td>\n",
       "    </tr>\n",
       "    <tr>\n",
       "      <th>4</th>\n",
       "      <td>NaN</td>\n",
       "      <td>NaN</td>\n",
       "      <td>NaN</td>\n",
       "      <td>0.084744</td>\n",
       "      <td>0.032111</td>\n",
       "      <td>3.129885</td>\n",
       "      <td>41.05</td>\n",
       "      <td>NaN</td>\n",
       "      <td>NaN</td>\n",
       "      <td>NaN</td>\n",
       "      <td>NaN</td>\n",
       "      <td>NaN</td>\n",
       "    </tr>\n",
       "    <tr>\n",
       "      <th>...</th>\n",
       "      <td>...</td>\n",
       "      <td>...</td>\n",
       "      <td>...</td>\n",
       "      <td>...</td>\n",
       "      <td>...</td>\n",
       "      <td>...</td>\n",
       "      <td>...</td>\n",
       "      <td>...</td>\n",
       "      <td>...</td>\n",
       "      <td>...</td>\n",
       "      <td>...</td>\n",
       "      <td>...</td>\n",
       "    </tr>\n",
       "    <tr>\n",
       "      <th>995</th>\n",
       "      <td>NaN</td>\n",
       "      <td>NaN</td>\n",
       "      <td>NaN</td>\n",
       "      <td>5.210260</td>\n",
       "      <td>0.131425</td>\n",
       "      <td>26.630490</td>\n",
       "      <td>NaN</td>\n",
       "      <td>NaN</td>\n",
       "      <td>NaN</td>\n",
       "      <td>NaN</td>\n",
       "      <td>NaN</td>\n",
       "      <td>NaN</td>\n",
       "    </tr>\n",
       "    <tr>\n",
       "      <th>996</th>\n",
       "      <td>NaN</td>\n",
       "      <td>NaN</td>\n",
       "      <td>NaN</td>\n",
       "      <td>5.217429</td>\n",
       "      <td>0.133656</td>\n",
       "      <td>26.665773</td>\n",
       "      <td>NaN</td>\n",
       "      <td>NaN</td>\n",
       "      <td>NaN</td>\n",
       "      <td>NaN</td>\n",
       "      <td>NaN</td>\n",
       "      <td>NaN</td>\n",
       "    </tr>\n",
       "    <tr>\n",
       "      <th>997</th>\n",
       "      <td>NaN</td>\n",
       "      <td>NaN</td>\n",
       "      <td>NaN</td>\n",
       "      <td>5.252864</td>\n",
       "      <td>0.135368</td>\n",
       "      <td>26.822626</td>\n",
       "      <td>NaN</td>\n",
       "      <td>NaN</td>\n",
       "      <td>NaN</td>\n",
       "      <td>NaN</td>\n",
       "      <td>NaN</td>\n",
       "      <td>NaN</td>\n",
       "    </tr>\n",
       "    <tr>\n",
       "      <th>998</th>\n",
       "      <td>NaN</td>\n",
       "      <td>NaN</td>\n",
       "      <td>NaN</td>\n",
       "      <td>5.299524</td>\n",
       "      <td>0.135790</td>\n",
       "      <td>27.006307</td>\n",
       "      <td>NaN</td>\n",
       "      <td>NaN</td>\n",
       "      <td>NaN</td>\n",
       "      <td>NaN</td>\n",
       "      <td>NaN</td>\n",
       "      <td>NaN</td>\n",
       "    </tr>\n",
       "    <tr>\n",
       "      <th>999</th>\n",
       "      <td>NaN</td>\n",
       "      <td>NaN</td>\n",
       "      <td>NaN</td>\n",
       "      <td>5.550755</td>\n",
       "      <td>0.140758</td>\n",
       "      <td>27.462525</td>\n",
       "      <td>NaN</td>\n",
       "      <td>NaN</td>\n",
       "      <td>NaN</td>\n",
       "      <td>NaN</td>\n",
       "      <td>NaN</td>\n",
       "      <td>NaN</td>\n",
       "    </tr>\n",
       "  </tbody>\n",
       "</table>\n",
       "<p>1000 rows × 12 columns</p>\n",
       "</div>"
      ],
      "text/plain": [
       "     fixed acidity  volatile acidity  citric acid  residual sugar  chlorides  \\\n",
       "0             6.54            0.5546       0.3019        0.032555   0.015122   \n",
       "1              NaN               NaN          NaN        0.033333   0.020794   \n",
       "2              NaN               NaN          NaN        0.051774   0.024259   \n",
       "3              NaN               NaN          NaN        0.077156   0.027209   \n",
       "4              NaN               NaN          NaN        0.084744   0.032111   \n",
       "..             ...               ...          ...             ...        ...   \n",
       "995            NaN               NaN          NaN        5.210260   0.131425   \n",
       "996            NaN               NaN          NaN        5.217429   0.133656   \n",
       "997            NaN               NaN          NaN        5.252864   0.135368   \n",
       "998            NaN               NaN          NaN        5.299524   0.135790   \n",
       "999            NaN               NaN          NaN        5.550755   0.140758   \n",
       "\n",
       "     free sulfur dioxide  total sulfur dioxide  density    pH  sulphates  \\\n",
       "0               0.194679                 35.20   0.9959  3.34       0.59   \n",
       "1               0.621628                 37.25   0.9961   NaN        NaN   \n",
       "2               0.860177                 39.64   0.9965   NaN        NaN   \n",
       "3               3.032139                 40.61   0.9970   NaN        NaN   \n",
       "4               3.129885                 41.05      NaN   NaN        NaN   \n",
       "..                   ...                   ...      ...   ...        ...   \n",
       "995            26.630490                   NaN      NaN   NaN        NaN   \n",
       "996            26.665773                   NaN      NaN   NaN        NaN   \n",
       "997            26.822626                   NaN      NaN   NaN        NaN   \n",
       "998            27.006307                   NaN      NaN   NaN        NaN   \n",
       "999            27.462525                   NaN      NaN   NaN        NaN   \n",
       "\n",
       "     alcohol  quality  \n",
       "0       9.86      8.0  \n",
       "1      10.31      NaN  \n",
       "2        NaN      NaN  \n",
       "3        NaN      NaN  \n",
       "4        NaN      NaN  \n",
       "..       ...      ...  \n",
       "995      NaN      NaN  \n",
       "996      NaN      NaN  \n",
       "997      NaN      NaN  \n",
       "998      NaN      NaN  \n",
       "999      NaN      NaN  \n",
       "\n",
       "[1000 rows x 12 columns]"
      ]
     },
     "execution_count": 435,
     "metadata": {},
     "output_type": "execute_result"
    }
   ],
   "source": [
    "display(Markdown(\"#### Modus [*multivalued*]\"))\n",
    "df.mode()"
   ]
  },
  {
   "attachments": {},
   "cell_type": "markdown",
   "metadata": {},
   "source": [
    "## PROBLEM 2\n",
    "### Membuat Visualisasi plot distribusi, dalam bentuk histogram dan boxplot untuk setiap kolom numerik. Berikan uraian penjelasan kondisi setiap kolom berdasarkan kedua plot tersebut."
   ]
  },
  {
   "cell_type": "code",
   "execution_count": 436,
   "metadata": {},
   "outputs": [],
   "source": [
    "dataHeader = df.columns\n",
    "\n",
    "plt.rcParams['boxplot.boxprops.linewidth'] = 2\n",
    "plt.rcParams['boxplot.whiskerprops.linewidth'] = 2\n",
    "plt.rcParams['boxplot.capprops.linewidth'] = 2\n",
    "plt.rcParams['boxplot.medianprops.linewidth'] = 2\n",
    "plt.rcParams['boxplot.flierprops.marker'] = 'o'\n",
    "plt.rcParams['boxplot.flierprops.markersize'] = 8\n",
    "plt.rcParams['boxplot.flierprops.linewidth'] = 2\n",
    "plt.rcParams['boxplot.flierprops.markeredgecolor'] = '#ab1ba5'\n"
   ]
  },
  {
   "cell_type": "code",
   "execution_count": 437,
   "metadata": {},
   "outputs": [],
   "source": [
    "def problem2(attribute) :\n",
    "\n",
    "    display(Markdown(f\"<h3 style='text-align:center; text-transform: uppercase'> {attribute} </h3>\"))\n",
    "\n",
    "    fig, (ax1, ax2) = plt.subplots(2, 1, figsize=(11, 10), sharex=True)\n",
    "    plt.subplot(2, 1, 1)\n",
    "\n",
    "    ax1.set_title(attribute.upper())\n",
    "    ax1.hist(df[attribute], bins=10, rwidth=0.8, color=\"#ab1ba5\")\n",
    "    ax1.set_facecolor('#d7dbe2')\n",
    "    \n",
    "    ax2.boxplot(df[attribute], vert=False, widths=0.5, patch_artist=True, boxprops=dict(facecolor='#e5bae4', color='#ab1ba5'), capprops=dict(color='#ab1ba5'), medianprops=dict(color='#ab1ba5'), flierprops=dict(color='#ab1ba5'), whiskerprops=dict(color='#ab1ba5'))\n",
    "    ax2.set_facecolor('#d7dbe2')\n",
    "    ax2.tick_params(axis='y', which='both', length=0)\n",
    "    ax2.yaxis.tick_right()\n",
    "\n",
    "    plt.show()\n"
   ]
  },
  {
   "cell_type": "code",
   "execution_count": 438,
   "metadata": {},
   "outputs": [
    {
     "data": {
      "text/markdown": [
       "<h3 style='text-align:center; text-transform: uppercase'> fixed acidity </h3>"
      ],
      "text/plain": [
       "<IPython.core.display.Markdown object>"
      ]
     },
     "metadata": {},
     "output_type": "display_data"
    },
    {
     "data": {
      "image/png": "[encoded data removed]",
      "text/plain": [
       "<Figure size 792x720 with 2 Axes>"
      ]
     },
     "metadata": {
      "needs_background": "light"
     },
     "output_type": "display_data"
    }
   ],
   "source": [
    "problem2(dataHeader[0])"
   ]
  },
  {
   "attachments": {},
   "cell_type": "markdown",
   "metadata": {},
   "source": [
    "Berdasarkan histogram dan box plot yang terbentuk dapat dilihat bahwa data *Fixed Acidity* terdistribusi secara **simetris**. Walaupun konsentrasi data cukup besar pada bagian kiri pusat distribusi, namun *skew* tersebut **hampir tidak terlihat**. Dapat dilihat juga cukup sedikit *outliers* yang berada diatas nilai *maximum whisker* ataupunyang berada dibawah nilai *minimum whisker*. Oleh karena itu, dapat dikatakan bahwa data *Fixed Acidity* cukup konsisten terhadap pusat distribusi."
   ]
  },
  {
   "cell_type": "code",
   "execution_count": 439,
   "metadata": {},
   "outputs": [
    {
     "data": {
      "text/markdown": [
       "<h3 style='text-align:center; text-transform: uppercase'> volatile acidity </h3>"
      ],
      "text/plain": [
       "<IPython.core.display.Markdown object>"
      ]
     },
     "metadata": {},
     "output_type": "display_data"
    },
    {
     "data": {
      "image/png": "[encoded data removed]",
      "text/plain": [
       "<Figure size 792x720 with 2 Axes>"
      ]
     },
     "metadata": {
      "needs_background": "light"
     },
     "output_type": "display_data"
    }
   ],
   "source": [
    "problem2(dataHeader[1])"
   ]
  },
  {
   "attachments": {},
   "cell_type": "markdown",
   "metadata": {},
   "source": [
    "Berdasarkan histogram dan box plot yang terbentuk dapat dilihat bahwa data *Volatile Acidity* secara umum terdistribusi secara **simetris** namun data cenderung lebih banyak terkonsentrasi pada sisi kiri pusat distribusi sehingga menyebabkan data tersebut cenderung miring ke kiri (*left-skewed*). Dapat dilihat juga bahwa terdapat cukup banyak *outliers* di kiri nilai *minimum whisker* yang menyebabkan panjangnya ekor distribusi di sisi kiri *mean*. Oleh karena itu, dapat dikatakan bahwa data *Volatile Acidity* **kurang konsisten** terhadap pusat distribusinya."
   ]
  },
  {
   "cell_type": "code",
   "execution_count": 440,
   "metadata": {},
   "outputs": [
    {
     "data": {
      "text/markdown": [
       "<h3 style='text-align:center; text-transform: uppercase'> citric acid </h3>"
      ],
      "text/plain": [
       "<IPython.core.display.Markdown object>"
      ]
     },
     "metadata": {},
     "output_type": "display_data"
    },
    {
     "data": {
      "image/png": "[encoded data removed]",
      "text/plain": [
       "<Figure size 792x720 with 2 Axes>"
      ]
     },
     "metadata": {
      "needs_background": "light"
     },
     "output_type": "display_data"
    }
   ],
   "source": [
    "problem2(dataHeader[2])"
   ]
  },
  {
   "attachments": {},
   "cell_type": "markdown",
   "metadata": {},
   "source": [
    "Berdasarkan histogram dan box plot yang terbentuk dapat dilihat bahwa data *Citric Acid* terdistribusi secara **simetris**. Walaupun konsentrasi data di sisi kiri pusat distribusi agak lebih tinggi dibanding di sisi kanannya, namun *skew* tersebut **hampir tidak terlihat**. Dapat dilihat juga cukup sedikit *outliers* yang berada dikanan nilai *maximum whisker* dan di kiri nilai *minimum whisker*. Oleh karena itu, dapat dikatakan bahwa data *Citric Acid* cukup **konsisten** terhadap pusat distribusi."
   ]
  },
  {
   "cell_type": "code",
   "execution_count": 441,
   "metadata": {},
   "outputs": [
    {
     "data": {
      "text/markdown": [
       "<h3 style='text-align:center; text-transform: uppercase'> residual sugar </h3>"
      ],
      "text/plain": [
       "<IPython.core.display.Markdown object>"
      ]
     },
     "metadata": {},
     "output_type": "display_data"
    },
    {
     "data": {
      "image/png": "[encoded data removed]",
      "text/plain": [
       "<Figure size 792x720 with 2 Axes>"
      ]
     },
     "metadata": {
      "needs_background": "light"
     },
     "output_type": "display_data"
    }
   ],
   "source": [
    "problem2(dataHeader[3])"
   ]
  },
  {
   "attachments": {},
   "cell_type": "markdown",
   "metadata": {},
   "source": [
    "Berdasarkan histogram dan box plot yang terbentuk dapat dilihat bahwa data *Residual Sugar* secara umum terdistribusi secara **simetris**, namun cenderung lebih banyak data yang terkonsentrasi pada sisi kanan pusat distribusi sehingga menyebabkan data tersebut cenderung miring ke kanan (*right-skewed*). Dapat dilihat juga bahwa terdapat cukup banyak *outliers* yang berada di kanan nilai *maximum whisker* yang menyebabkan panjangnya ekor distribusi di sisi kanan pusat distribusi."
   ]
  },
  {
   "cell_type": "code",
   "execution_count": 442,
   "metadata": {},
   "outputs": [
    {
     "data": {
      "text/markdown": [
       "<h3 style='text-align:center; text-transform: uppercase'> chlorides </h3>"
      ],
      "text/plain": [
       "<IPython.core.display.Markdown object>"
      ]
     },
     "metadata": {},
     "output_type": "display_data"
    },
    {
     "data": {
      "image/png": "[encoded data removed]",
      "text/plain": [
       "<Figure size 792x720 with 2 Axes>"
      ]
     },
     "metadata": {
      "needs_background": "light"
     },
     "output_type": "display_data"
    }
   ],
   "source": [
    "problem2(dataHeader[4])"
   ]
  },
  {
   "attachments": {},
   "cell_type": "markdown",
   "metadata": {},
   "source": [
    "Berdasarkan histogram dan box plot yang terbentuk dapat dilihat bahwa data *Chlorides* secara umum terdistribusi secara **simetris** namun data cenderung lebih banyak terkonsentrasi pada sisi kiri pusat distribusi sehingga menyebabkan data tersebut cenderung miring ke kiri (*left-skewed*). Dapat dilihat juga bahwa hanya terdapat **sedikit *outliers*** dikiri nilai *minimum whisker* ataupun dikanan nilai *maximum whisker*."
   ]
  },
  {
   "cell_type": "code",
   "execution_count": 443,
   "metadata": {},
   "outputs": [
    {
     "data": {
      "text/markdown": [
       "<h3 style='text-align:center; text-transform: uppercase'> free sulfur dioxide </h3>"
      ],
      "text/plain": [
       "<IPython.core.display.Markdown object>"
      ]
     },
     "metadata": {},
     "output_type": "display_data"
    },
    {
     "data": {
      "image/png": "[encoded data removed]",
      "text/plain": [
       "<Figure size 792x720 with 2 Axes>"
      ]
     },
     "metadata": {
      "needs_background": "light"
     },
     "output_type": "display_data"
    }
   ],
   "source": [
    "problem2(dataHeader[5])"
   ]
  },
  {
   "attachments": {},
   "cell_type": "markdown",
   "metadata": {},
   "source": [
    "Berdasarkan histogram dan box plot yang terbentuk dapat dilihat bahwa data *Free Sulfur Dioxide* terdistribusi secara **simetris**. Walaupun konsentrasi data sedikit lebih besar pada sisi kanan pusat distribusi, namun *skew* tersebut **hampir tidak terlihat**. Dapat dilihat juga cukup sedikit *outliers* yang berada dikiri nilai *minimum whisker* dan tidak ada *outliers* yang berada dikanan nilai *maximum whisker*. Oleh karena itu, dapat dikatakan bahwa data *Free Sulfur Dioxide* **cukup konsisten** terhadap pusat distribusi."
   ]
  },
  {
   "cell_type": "code",
   "execution_count": 444,
   "metadata": {},
   "outputs": [
    {
     "data": {
      "text/markdown": [
       "<h3 style='text-align:center; text-transform: uppercase'> total sulfur dioxide </h3>"
      ],
      "text/plain": [
       "<IPython.core.display.Markdown object>"
      ]
     },
     "metadata": {},
     "output_type": "display_data"
    },
    {
     "data": {
      "image/png": "[encoded data removed]",
      "text/plain": [
       "<Figure size 792x720 with 2 Axes>"
      ]
     },
     "metadata": {
      "needs_background": "light"
     },
     "output_type": "display_data"
    }
   ],
   "source": [
    "problem2(dataHeader[6])"
   ]
  },
  {
   "attachments": {},
   "cell_type": "markdown",
   "metadata": {},
   "source": [
    "Berdasarkan histogram dan box plot yang terbentuk dapat dilihat bahwa data *Total Sulfur Dioxide* terdistribusi secara **simetris**. Walaupun konsentrasi data sedikit lebih besar pada sisi kanan pusat distribusi, namun *skew* tersebut **hampir tidak terlihat**. Dapat dilihat juga cukup sedikit *outliers* yang berada dikiri nilai *minimum whisker* dan ataupun yang berada dikanan nilai *maximum whisker*, namun *outliers* di sisi kiri berbeda cukup jauh sehingga menyebabkan memanjangnya ekor distribusi data di sisi kiri."
   ]
  },
  {
   "cell_type": "code",
   "execution_count": 445,
   "metadata": {},
   "outputs": [
    {
     "data": {
      "text/markdown": [
       "<h3 style='text-align:center; text-transform: uppercase'> density </h3>"
      ],
      "text/plain": [
       "<IPython.core.display.Markdown object>"
      ]
     },
     "metadata": {},
     "output_type": "display_data"
    },
    {
     "data": {
      "image/png": "[encoded data removed]",
      "text/plain": [
       "<Figure size 792x720 with 2 Axes>"
      ]
     },
     "metadata": {
      "needs_background": "light"
     },
     "output_type": "display_data"
    }
   ],
   "source": [
    "problem2(dataHeader[7])"
   ]
  },
  {
   "attachments": {},
   "cell_type": "markdown",
   "metadata": {},
   "source": [
    "Berdasarkan histogram dan box plot yang terbentuk dapat dilihat bahwa data *Density* secara umum terdistribusi secara **simetris** namun data cenderung lebih banyak terkonsentrasi pada sisi kiri pusat distribusi, walaupun demikian *skew* tersebut **hampir tidak terlihat**. Dapat dilihat juga bahwa hanya terdapat beberapa *outliers* dikiri nilai *minimum whisker* ataupun dikanan nilai *maximum whisker*. Oleh karena itu, dapat dikatakan bahwa data *Density* **kurang konsisten** terhadap pusat distribusinya."
   ]
  },
  {
   "cell_type": "code",
   "execution_count": 446,
   "metadata": {},
   "outputs": [
    {
     "data": {
      "text/markdown": [
       "<h3 style='text-align:center; text-transform: uppercase'> pH </h3>"
      ],
      "text/plain": [
       "<IPython.core.display.Markdown object>"
      ]
     },
     "metadata": {},
     "output_type": "display_data"
    },
    {
     "data": {
      "image/png": "[encoded data removed]",
      "text/plain": [
       "<Figure size 792x720 with 2 Axes>"
      ]
     },
     "metadata": {
      "needs_background": "light"
     },
     "output_type": "display_data"
    }
   ],
   "source": [
    "problem2(dataHeader[8])"
   ]
  },
  {
   "attachments": {},
   "cell_type": "markdown",
   "metadata": {},
   "source": [
    "Berdasarkan histogram dan box plot yang terbentuk dapat dilihat bahwa data *pH* terdistribusi secara **simetris**. Walaupun konsentrasi data cukup besar pada bagian kanan pusat distribusi, namun *skew* tersebut **hampir tidak terlihat**. Dapat dilihat juga cukup sedikit *outliers* yang berada di kanan nilai *maximum whisker* ataupun yang berada di kiri nilai *minimum whisker*. Oleh karena itu, dapat dikatakan bahwa data *pH* cukup konsisten terhadap pusat distribusi walaupun memiliki ekor distribusi yang cukup panjang"
   ]
  },
  {
   "cell_type": "code",
   "execution_count": 447,
   "metadata": {},
   "outputs": [
    {
     "data": {
      "text/markdown": [
       "<h3 style='text-align:center; text-transform: uppercase'> sulphates </h3>"
      ],
      "text/plain": [
       "<IPython.core.display.Markdown object>"
      ]
     },
     "metadata": {},
     "output_type": "display_data"
    },
    {
     "data": {
      "image/png": "[encoded data removed]",
      "text/plain": [
       "<Figure size 792x720 with 2 Axes>"
      ]
     },
     "metadata": {
      "needs_background": "light"
     },
     "output_type": "display_data"
    }
   ],
   "source": [
    "problem2(dataHeader[9])"
   ]
  },
  {
   "attachments": {},
   "cell_type": "markdown",
   "metadata": {},
   "source": [
    "Berdasarkan histogram dan box plot yang terbentuk dapat dilihat bahwa data *Sulphates* terdistribusi secara **simetris**. Walaupun konsentrasi data cukup besar pada bagian kanan pusat distribusi, namun *skew* tersebut **hampir tidak terlihat**. Dapat dilihat juga cukup sedikit *outliers* yang berada di kanan nilai *maximum whisker* ataupun yang berada di kiri nilai *minimum whisker*. Oleh karena itu, dapat dikatakan bahwa data *Sulphates* cukup konsisten terhadap pusat distribusi."
   ]
  },
  {
   "cell_type": "code",
   "execution_count": 448,
   "metadata": {},
   "outputs": [
    {
     "data": {
      "text/markdown": [
       "<h3 style='text-align:center; text-transform: uppercase'> alcohol </h3>"
      ],
      "text/plain": [
       "<IPython.core.display.Markdown object>"
      ]
     },
     "metadata": {},
     "output_type": "display_data"
    },
    {
     "data": {
      "image/png": "[encoded data removed]",
      "text/plain": [
       "<Figure size 792x720 with 2 Axes>"
      ]
     },
     "metadata": {
      "needs_background": "light"
     },
     "output_type": "display_data"
    }
   ],
   "source": [
    "problem2(dataHeader[10])"
   ]
  },
  {
   "attachments": {},
   "cell_type": "markdown",
   "metadata": {},
   "source": [
    "Berdasarkan histogram dan box plot yang terbentuk dapat dilihat bahwa data *Alcohol* secara umum terdistribusi secara **simetris**, namun cenderung lebih banyak data yang terkonsentrasi pada sisi kiri pusat distribusi sehingga menyebabkan data tersebut cenderung miring ke kiri (*left-skewed*). Dapat dilihat juga bahwa terdapat cukup banyak *outliers* yang berada di kiri nilai *minimum whisker* yang menyebabkan panjangnya ekor distribusi di sisi kiri pusat distribusi. "
   ]
  },
  {
   "cell_type": "code",
   "execution_count": 449,
   "metadata": {},
   "outputs": [
    {
     "data": {
      "text/markdown": [
       "<h3 style='text-align:center; text-transform: uppercase'> quality </h3>"
      ],
      "text/plain": [
       "<IPython.core.display.Markdown object>"
      ]
     },
     "metadata": {},
     "output_type": "display_data"
    },
    {
     "data": {
      "image/png": "[encoded data removed]",
      "text/plain": [
       "<Figure size 792x720 with 2 Axes>"
      ]
     },
     "metadata": {
      "needs_background": "light"
     },
     "output_type": "display_data"
    }
   ],
   "source": [
    "problem2(dataHeader[11])"
   ]
  },
  {
   "attachments": {},
   "cell_type": "markdown",
   "metadata": {},
   "source": [
    "Berdasarkan histogram dan box plot yang terbentuk dapat dilihat bahwa data *Quality* terdistribusi secara **simetris**. Walaupun konsentrasi data cukup besar pada bagian kiri pusat distribusi sehingga menyebabkan data tersebut cenderung miring ke kiri (*left-skewed*). Dapat dilihat juga bahwa tidak ada *outliers* yang berada di kanan nilai *maximum whisker* ataupun yang di kiri nilai *minimum whisker* hanya saja ekor distribusi sedikit lebih panjang di sisi kirinya."
   ]
  },
  {
   "attachments": {},
   "cell_type": "markdown",
   "metadata": {},
   "source": [
    "## PROBLEM 3\n",
    "### Menentukan setiap kolom numerik berdistribusi normal atau tidak. Gunakan normality test yang dikaitkan dengan histogram plot"
   ]
  },
  {
   "cell_type": "code",
   "execution_count": 450,
   "metadata": {},
   "outputs": [],
   "source": [
    "import scipy.stats as stats"
   ]
  },
  {
   "cell_type": "code",
   "execution_count": 451,
   "metadata": {},
   "outputs": [],
   "source": [
    "def problem3(attribute):\n",
    "    stat, p_val = stats.normaltest(df[attribute])\n",
    "    display(Markdown(\"### D’Agostino’s K-squared Test, $p$ = %.10f\" % (p_val)))\n",
    "    if p_val > 0.05 :\n",
    "        display(Markdown(\"### Kolom %s Berdistribusi Normal\" % (attribute)))\n",
    "    else :\n",
    "        display(Markdown(\"### Kolom %s Berdistribusi Tidak Normal\" % (attribute)))\n",
    "    plt.subplots()\n",
    "    df[attribute].plot(kind=\"hist\", color=\"#ab1ba5\", linewidth=1.9, edgecolor=\"#550d52\", bins=10, density=\"True\").set_facecolor('#c6ccd6')\n",
    "    df[attribute].plot(kind=\"kde\", color=\"#220521\", linewidth=2, figsize=(12, 6))\n",
    "    plt.title(attribute)\n",
    "    plt.show()"
   ]
  },
  {
   "cell_type": "code",
   "execution_count": 452,
   "metadata": {},
   "outputs": [
    {
     "data": {
      "text/markdown": [
       "### D’Agostino’s K-squared Test, $p$ = 0.9308584274"
      ],
      "text/plain": [
       "<IPython.core.display.Markdown object>"
      ]
     },
     "metadata": {},
     "output_type": "display_data"
    },
    {
     "data": {
      "text/markdown": [
       "### Kolom fixed acidity Berdistribusi Normal"
      ],
      "text/plain": [
       "<IPython.core.display.Markdown object>"
      ]
     },
     "metadata": {},
     "output_type": "display_data"
    },
    {
     "data": {
      "image/png": "[encoded data removed]",
      "text/plain": [
       "<Figure size 864x432 with 1 Axes>"
      ]
     },
     "metadata": {
      "needs_background": "light"
     },
     "output_type": "display_data"
    }
   ],
   "source": [
    "problem3(dataHeader[0])"
   ]
  },
  {
   "attachments": {},
   "cell_type": "markdown",
   "metadata": {},
   "source": [
    "## PROBLEM 4\n",
    "### Melakukan Test Hipotesis 1 Sample"
   ]
  },
  {
   "cell_type": "code",
   "execution_count": 453,
   "metadata": {},
   "outputs": [],
   "source": [
    "import scipy.stats as st\n",
    "from statsmodels.stats.weightstats import ztest\n",
    "from statsmodels.stats.proportion import proportions_ztest"
   ]
  },
  {
   "attachments": {},
   "cell_type": "markdown",
   "metadata": {},
   "source": [
    "### a. Nilai rata-rata pH di atas 3.29?"
   ]
  },
  {
   "attachments": {},
   "cell_type": "markdown",
   "metadata": {},
   "source": [
    "$H_0$ : Nilai rata-rata pH = $3.29$ ($μ = 3.29$)\n",
    "\n",
    "$H_0$ : Nilai rata-rata pH > $3.29$ ($μ > 3.29$)\n",
    "\n",
    "Tingkat signifikan: $\\alpha = 0.05$\n",
    "\n",
    "Uji Statistik: Single Sample Right Tailed Z Test dengan *Critical Section* $z > z_\\alpha$\n",
    "\n",
    "Rumus perhitungan nilai $z$: $$ z = \\frac{\\bar{x_{}} - μ_{0}} {\\sigma/\\sqrt{n}} $$\n",
    "\n",
    "Jika $z$ berada pada *critical section* ($z > z_\\alpha$), maka nilai $p < \\alpha$ dan $H_0$ ditolak\n",
    "\n",
    "Jika $z$ tidak berada pada *critical section* ($z ≤ z_\\alpha$), maka nilai $p ≥ \\alpha$ dan $H_0$ tidak ditolak\n"
   ]
  },
  {
   "cell_type": "code",
   "execution_count": 454,
   "metadata": {},
   "outputs": [
    {
     "data": {
      "text/markdown": [
       "Didapatkan nilai $z = -913.6166$ dan $p = 1.0$"
      ],
      "text/plain": [
       "<IPython.core.display.Markdown object>"
      ]
     },
     "metadata": {},
     "output_type": "display_data"
    },
    {
     "data": {
      "text/markdown": [
       "Didapatkan nilai $z_\\alpha = 1.6449$"
      ],
      "text/plain": [
       "<IPython.core.display.Markdown object>"
      ]
     },
     "metadata": {},
     "output_type": "display_data"
    },
    {
     "data": {
      "text/markdown": [
       "Keputusan: Tidak menolak $H_0$ dikarenakan $z$ tidak berada pada *critical section* ($z ≤ 1.6449$)"
      ],
      "text/plain": [
       "<IPython.core.display.Markdown object>"
      ]
     },
     "metadata": {},
     "output_type": "display_data"
    },
    {
     "data": {
      "text/markdown": [
       "Tes Signifikan: Tidak menolak $H_0$ dikarenakan $p$ lebih besar atau sama dengan tingkat signifikan yang diinginkan ($p ≥ 0.05$)"
      ],
      "text/plain": [
       "<IPython.core.display.Markdown object>"
      ]
     },
     "metadata": {},
     "output_type": "display_data"
    },
    {
     "data": {
      "text/markdown": [
       "Jadi, nilai rata-rata pH sama dengan $3.29$"
      ],
      "text/plain": [
       "<IPython.core.display.Markdown object>"
      ]
     },
     "metadata": {},
     "output_type": "display_data"
    }
   ],
   "source": [
    "m_0 = 3.29\n",
    "signifikan = 0.05\n",
    "\n",
    "z_val, p_val = ztest(df[\"volatile acidity\"], value=m_0, alternative=\"larger\")\n",
    "display(Markdown(f\"Didapatkan nilai $z = {round(z_val, 4)}$ dan $p = {round(p_val, 4)}$\"))\n",
    "\n",
    "z_signifikan = st.norm.ppf(1-signifikan)\n",
    "display(Markdown(f\"Didapatkan nilai $z_\\\\alpha = {round(z_signifikan, 4)}$\"))\n",
    "\n",
    "if z_val > z_signifikan:\n",
    "    display(Markdown(f\"Keputusan: Tolak $H_0$ dikarenakan $z$ berada pada *critical section* ($z > {round(z_signifikan, 4)}$)\"))\n",
    "    display(Markdown(f\"Tes Signifikan: Tolak $H_0$ dikarenakan $p$ lebih kecil dari tingkat signifikan yang diinginkan ($p < {signifikan}$)\"))\n",
    "    display(Markdown(f\"Jadi, nilai rata-rata pH lebih dari ${m_0}$\"))\n",
    "else:\n",
    "    display(Markdown(f\"Keputusan: Tidak menolak $H_0$ dikarenakan $z$ tidak berada pada *critical section* ($z ≤ {round(z_signifikan, 4)}$)\"))\n",
    "    display(Markdown(f\"Tes Signifikan: Tidak menolak $H_0$ dikarenakan $p$ lebih besar atau sama dengan tingkat signifikan yang diinginkan ($p ≥ {signifikan}$)\"))\n",
    "    display(Markdown(f\"Jadi, nilai rata-rata pH sama dengan ${m_0}$\"))"
   ]
  },
  {
   "attachments": {},
   "cell_type": "markdown",
   "metadata": {},
   "source": [
    "## PROBLEM 5"
   ]
  },
  {
   "attachments": {},
   "cell_type": "markdown",
   "metadata": {},
   "source": [
    "### Test Hipotesis 2 Sampel"
   ]
  },
  {
   "attachments": {},
   "cell_type": "markdown",
   "metadata": {},
   "source": [
    "### a. Data kolom fixed acidity dibagi 2 sama rata: bagian awal dan bagian akhir kolom. Benarkah rata-rata kedua bagian tersebut sama?"
   ]
  },
  {
   "attachments": {},
   "cell_type": "markdown",
   "metadata": {},
   "source": [
    "$H_0$: Nilai rata-rata kolom awal *Fixed Acidity* sama dengan nilai rata-rata kolom akhir *Fixed Acidity* ($μ_{1} - μ_{2} = 0$)\n",
    "\n",
    "$H_1$: Nilai rata-rata kolom awal *Fixed Acidity* tidak sama dengan nilai rata-rata kolom akhir *Fixed Acidity* ($μ_{1} - μ_{2} ≠ 0$)\n",
    "\n",
    "Tingkat Signifikan: $\\alpha = 0.05$\n",
    "\n",
    "Uji Statistik: Double Sample Two Tailed Z Test dengan *Critical Section* $z < -z_{\\alpha/2}$ atau $z > z_{\\alpha/2}$\n",
    "\n",
    "Rumus perhitungan nilai $z$:\n",
    "\n",
    "$$ z = \\frac{(\\bar{x_{1}} - \\bar{x_{2}}) - (μ_{1} - μ_{2})} {\\sqrt{\\sigma_{1}^{2}/n_{1} + \\sigma_{2}^{2}/n_{2}}} $$\n",
    "\n",
    "Jika $z$ berada pada *critical section* ($z < -z_{\\alpha/2}$ atau $z > z_{\\alpha/2}$), maka nilai $p < \\alpha$ dan $H_0$ ditolak\n",
    "\n",
    "Jika $z$ tidak berada pada *critical section* ($z < -z_{\\alpha/2}$ atau $z > z_{\\alpha/2}$), maka nilai $p ≥ \\alpha$ dan $H_0$ tidak ditolak"
   ]
  },
  {
   "cell_type": "code",
   "execution_count": 455,
   "metadata": {},
   "outputs": [
    {
     "data": {
      "image/png": "[encoded data removed]",
      "text/plain": [
       "<Figure size 504x216 with 1 Axes>"
      ]
     },
     "metadata": {
      "needs_background": "light"
     },
     "output_type": "display_data"
    }
   ],
   "source": [
    "fig, ax = plt.subplots(figsize=(7, 3))\n",
    "ax.boxplot(df[\"fixed acidity\"][:len(df) // 2], vert=False, widths=0.5, patch_artist=True, boxprops=dict(facecolor='#e5bae4', edgecolor='#ab1ba5'), capprops=dict(color='#ab1ba5'), medianprops=dict(color='#ab1ba5'), flierprops=dict(markeredgecolor='#ab1ba5'), whiskerprops=dict(color='#ab1ba5'));"
   ]
  },
  {
   "cell_type": "code",
   "execution_count": 456,
   "metadata": {},
   "outputs": [
    {
     "data": {
      "image/png": "[encoded data removed]",
      "text/plain": [
       "<Figure size 504x216 with 1 Axes>"
      ]
     },
     "metadata": {
      "needs_background": "light"
     },
     "output_type": "display_data"
    }
   ],
   "source": [
    "fig, ax = plt.subplots(figsize=(7, 3))\n",
    "ax.boxplot(df[\"fixed acidity\"][len(df) // 2:], vert=False, widths=0.5, patch_artist=True, boxprops=dict(facecolor='#e5bae4', edgecolor='#ab1ba5'), capprops=dict(color='#ab1ba5'), medianprops=dict(color='#ab1ba5'), flierprops=dict(markeredgecolor='#ab1ba5'), whiskerprops=dict(color='#ab1ba5'));"
   ]
  },
  {
   "cell_type": "code",
   "execution_count": 457,
   "metadata": {},
   "outputs": [
    {
     "data": {
      "text/markdown": [
       "Didapatkan nilai $z = 0.026$ dan $p = 0.9792$"
      ],
      "text/plain": [
       "<IPython.core.display.Markdown object>"
      ]
     },
     "metadata": {},
     "output_type": "display_data"
    },
    {
     "data": {
      "text/markdown": [
       "Didapatkan nilai $z_{\\alpha/2} = 1.96$"
      ],
      "text/plain": [
       "<IPython.core.display.Markdown object>"
      ]
     },
     "metadata": {},
     "output_type": "display_data"
    },
    {
     "data": {
      "text/markdown": [
       "Keputusan: Tidak menolak $H_0$ dikarenakan $z$ tidak berada pada *critical section* ($-1.96 ≤ z ≤ 1.96$)"
      ],
      "text/plain": [
       "<IPython.core.display.Markdown object>"
      ]
     },
     "metadata": {},
     "output_type": "display_data"
    },
    {
     "data": {
      "text/markdown": [
       "Tes Signifikan: Tidak menolak $H_0$ dikarenakan $p$ lebih besar atau sama dengan tingkat signifikan yang diinginkan ($p ≥ 0.05$)"
      ],
      "text/plain": [
       "<IPython.core.display.Markdown object>"
      ]
     },
     "metadata": {},
     "output_type": "display_data"
    },
    {
     "data": {
      "text/markdown": [
       "Jadi, nilai rata-rata kolom awal *Fixed Acidity* sama dengan nilai rata-rata kolom akhir *Fixed Acidity* ($μ_{1} - μ_{2} = 0$)"
      ],
      "text/plain": [
       "<IPython.core.display.Markdown object>"
      ]
     },
     "metadata": {},
     "output_type": "display_data"
    }
   ],
   "source": [
    "delta_miu = 0\n",
    "alpha = 0.05\n",
    "\n",
    "z, p = ztest(df[\"fixed acidity\"][:len(df) // 2], df[\"fixed acidity\"][len(df) // 2:], value=delta_miu, alternative=\"two-sided\")\n",
    "display(Markdown(f\"Didapatkan nilai $z = {round(z, 4)}$ dan $p = {round(p, 4)}$\"))\n",
    "\n",
    "z_alpha_per_dua = st.norm.ppf(1 - alpha / 2)\n",
    "display(Markdown(f\"Didapatkan nilai $z_{{\\\\alpha/2}} = {round(z_alpha_per_dua, 4)}$\"))\n",
    "\n",
    "if z < -z_alpha_per_dua or z > z_alpha_per_dua:\n",
    "    display(Markdown(f\"Keputusan: Tolak $H_0$ dikarenakan $z$ berada pada *critical section* ($z < {round(-z_alpha_per_dua, 4)}$ atau $z > {round(z_alpha_per_dua, 4)}$)\"))\n",
    "    display(Markdown(f\"Tes Signifikan: Tolak $H_0$ dikarenakan $p$ lebih kecil dari tingkat signifikan yang diinginkan ($p < {alpha}$)\"))\n",
    "    display(Markdown(f\"Jadi, nilai rata-rata kolom awal *Fixed Acidity* tidak sama dengan nilai rata-rata kolom akhir *Fixed Acidity* ($μ_{{1}} - μ_{{2}} ≠ {delta_miu}$)\"))\n",
    "else:\n",
    "    display(Markdown(f\"Keputusan: Tidak menolak $H_0$ dikarenakan $z$ tidak berada pada *critical section* (${round(-z_alpha_per_dua, 4)} ≤ z ≤ {round(z_alpha_per_dua, 4)}$)\"))\n",
    "    display(Markdown(f\"Tes Signifikan: Tidak menolak $H_0$ dikarenakan $p$ lebih besar atau sama dengan tingkat signifikan yang diinginkan ($p ≥ {alpha}$)\"))\n",
    "    display(Markdown(f\"Jadi, nilai rata-rata kolom awal *Fixed Acidity* sama dengan nilai rata-rata kolom akhir *Fixed Acidity* ($μ_{{1}} - μ_{{2}} = {delta_miu}$)\"))"
   ]
  },
  {
   "attachments": {},
   "cell_type": "markdown",
   "metadata": {},
   "source": [
    "### b. Data kolom chlorides dibagi 2 sama rata: bagian awal dan bagian akhir kolom. Benarkah rata-rata bagian awal lebih besar daripada bagian akhir sebesar 0.001?"
   ]
  },
  {
   "attachments": {},
   "cell_type": "markdown",
   "metadata": {},
   "source": [
    "### c. Benarkah rata-rata sampel 25 baris pertama kolom Volatile Acidity sama dengan rata-rata 25 baris pertama kolom Sulphates ?"
   ]
  },
  {
   "attachments": {},
   "cell_type": "markdown",
   "metadata": {},
   "source": [
    "### d. Bagian awal kolom residual sugar memiliki variansi yang sama dengan bagian akhirnya?"
   ]
  },
  {
   "attachments": {},
   "cell_type": "markdown",
   "metadata": {},
   "source": [
    "### e. Proporsi nilai setengah bagian awal alcohol yang lebih dari 7, adalah lebih besar daripada, proporsi nilai yang sama di setengah bagian akhir alcohol?"
   ]
  }
 ],
 "metadata": {
  "kernelspec": {
   "display_name": "Python 3",
   "language": "python",
   "name": "python3"
  },
  "language_info": {
   "codemirror_mode": {
    "name": "ipython",
    "version": 3
   },
   "file_extension": ".py",
   "mimetype": "text/x-python",
   "name": "python",
   "nbconvert_exporter": "python",
   "pygments_lexer": "ipython3",
   "version": "3.9.7"
  },
  "orig_nbformat": 4
 },
 "nbformat": 4,
 "nbformat_minor": 2
}
